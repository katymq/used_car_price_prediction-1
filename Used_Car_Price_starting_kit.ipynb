{
 "cells": [
  {
   "cell_type": "markdown",
   "metadata": {
    "colab_type": "text",
    "id": "ft6S08iIGyg2"
   },
   "source": [
    "<center> \n",
    "\n",
    "<img src=\"https://github.com/SvetlanaPek/used_car_price_prediction/raw/master/img/logo_ParisSaclay.png\" width=\"200\" align=\"center\">  \n",
    "\n",
    "</center>"
   ]
  },
  {
   "cell_type": "markdown",
   "metadata": {
    "colab_type": "text",
    "id": "0C9ANLxTGyg5"
   },
   "source": [
    " \n",
    "<center> <h1> <font color='#0000e6'> <b> Used cars database from eBay Kleinanzeigen</h1>\n",
    "      <h3>  <b> DataCamp team project (M2 Data Science 2019/2020)</h3>\n",
    "      <img src=\"https://github.com/SvetlanaPek/used_car_price_prediction/raw/master/img/cars.png\" width=\"1000\" align=\"center\"> </center> </font>"
   ]
  },
  {
   "cell_type": "markdown",
   "metadata": {
    "colab_type": "text",
    "id": "h987jbIDGyg6"
   },
   "source": [
    "**__Authors__**:\n",
    "- BELEMKOABGA Stéphane: david-stephane.belemkoabga@polytechnique.edu\n",
    "- MORALES Katherine: katherine.morales-quinga@polytechnique.edu\n",
    "- OMRANE Firas: firas.omrane@telecom-paristech.fr\n",
    "- PEKARSKIKH Svetlana: svetlana.pekarskikh@polytechnique.edu\n",
    "- PUYRAZAT Quentin: quentin.puyrazat@polytechnique.edu\n",
    "- RIVOIRE Manon: manon.rivoire@polytechnique.edu\n",
    "\n",
    "**__Professors__**:\n",
    "- GRAMFORT Alexandre\n",
    "- MOREAU Thomas"
   ]
  },
  {
   "cell_type": "markdown",
   "metadata": {
    "colab_type": "text",
    "id": "vAUSOIiaGyg7"
   },
   "source": [
    "<h1>Table of contents<span class=\"tocSkip\"></span></h1>"
   ]
  },
  {
   "cell_type": "markdown",
   "metadata": {
    "colab_type": "text",
    "id": "gycVc1UBGyg8"
   },
   "source": [
    "<div class=\"toc\" style=\"margin-top: 1em;\">\n",
    "    <ul class=\"toc-item\"><li><span><a href=\"#1.-Introduction\" data-toc-modified-id=\"Introduction-1\"><span class=\"toc-item-num\"; style=\"font-size: 14pt;\">1&nbsp;&nbsp;Introduction</span></a></span>\n",
    "        <ul class=\"toc-item\">\n",
    "            <li><span><a href=\"#1.1-Dataset-description\" data-toc-modified-id=\"Dataset-description-1.1\"><span class=\"toc-item-num\">1.1&nbsp;&nbsp;</span>Dataset description</a></span>\n",
    "            <li><span><a href=\"#1.2-Variables\" data-toc-modified-id=\"Variables-1.2\"><span class=\"toc-item-num\">1.2&nbsp;&nbsp;</span>Variables</a></span>\n",
    "            <li><span><a href=\"#1.3-Aim-and-score-metric\" data-toc-modified-id=\"Aim-and-score-metric-1.3\"><span class=\"toc-item-num\">1.3&nbsp;&nbsp;</span>Aim and score metric</a></span>\n",
    "            <li><span><a href=\"#1.4-Required-packages,-imports-and-data-loading\" data-toc-modified-id=\"Required-packages,-imports-and-data-loading-1.4\"><span class=\"toc-item-num\">1.4&nbsp;&nbsp;</span>Required packages, imports and data loading</a></span>\n",
    "        </div>\n",
    "<div class=\"toc\" style=\"margin-top: 1em;\">\n",
    "    <ul class=\"toc-item\"><li><span><a href=\"#2.-Exploratory-data-analysis\" data-toc-modified-id=\"Exploratory-data-analysis-2\"><span class=\"toc-item-num\"; style=\"font-size: 14pt;\" >2&nbsp;&nbsp;Exploratory data analysis</span></a></span>\n",
    "         <ul class=\"toc-item\">\n",
    "             <li><span><a href=\"#2.1-Overall-data-description\" data-toc-modified-id=\"Overall-data-description-2.1\"><span class=\"toc-item-num\">2.1&nbsp;&nbsp;</span>Overall data description</a></span>\n",
    "         <li><span><a href=\"#2.2-Exploring-vehicle-variables\" data-toc-modified-id=\"Exploring-vehicle-variables-2.2\"><span class=\"toc-item-num\">2.2&nbsp;&nbsp;</span>Exploring vehicle variables</a></span>\n",
    "         <li><span><a href=\"#2.3-Exploring-date-variables\" data-toc-modified-id=\"Exploring-date-variables-2.3\"><span class=\"toc-item-num\">2.3&nbsp;&nbsp;</span>Exploring date variables</a></span>          \n",
    "    <ul class=\"toc-item\"></div>\n",
    "<div class=\"toc\" style=\"margin-top: 1em;\">\n",
    "    <ul class=\"toc-item\"><li><span><a href=\"#3.-Data-preprocessing\" data-toc-modified-id=\"Data-preprocessing-3\"><span class=\"toc-item-num\"; style=\"font-size: 14pt;\">3&nbsp;&nbsp;Data preprocessing</span></a></span></div>\n",
    "<div class=\"toc\" style=\"margin-top: 1em;\">\n",
    "    <ul class=\"toc-item\"><li><span><a href=\"#4.-Baseline-model\" data-toc-modified-id=\"Baseline-model-4\"><span class=\"toc-item-num\"; style=\"font-size: 14pt;\">4&nbsp;&nbsp;Baseline model</span></a></span></div>\n",
    "<div class=\"toc\" style=\"margin-top: 1em;\">\n",
    "    <ul class=\"toc-item\"><li><span><a href=\"#5.-RAMP-test-submission\" data-toc-modified-id=\"RAMP-test-submission-5\"><span class=\"toc-item-num\"; style=\"font-size: 14pt;\">5&nbsp;&nbsp;RAMP test submission</span></a></span></div>"
   ]
  },
  {
   "cell_type": "markdown",
   "metadata": {
    "colab_type": "text",
    "id": "XLzI4-XxGyg9"
   },
   "source": [
    "# <font color='#0000e6'> 1. Introduction\n",
    "## <font color='#0000e6'> 1.0 Business Case\n",
    "<span><a href=\"#Table-of-contents\" data-toc-modified-id=\"Table-of-contents\"><span class=\"toc-item-num\">Back to the table of contents</span></a></span>"
   ]
  },
  {
   "cell_type": "markdown",
   "metadata": {
    "colab_type": "text",
    "id": "Ds4FJQWbGyg9"
   },
   "source": [
    "## <font color='#0000e6'> 1.1 Dataset description"
   ]
  },
  {
   "cell_type": "markdown",
   "metadata": {
    "colab_type": "text",
    "id": "Hv8Ojkp5Gyg-"
   },
   "source": [
    "Over 370 000 used cars scraped with Scrapy from Ebay-Kleinanzeigen. The dataset was originally scraped and uploaded to <a href=https://www.kaggle.com/orgesleka/used-cars-database/data>Kaggle</a>.\n",
    "\n",
    "The content of the data is in German language. It might be necessary to translate a few words, however, it doesn't obstruct understanding the data.\n",
    "\n",
    "Our dataset contains 20 columns (including the variable to predict), most of which are stored as strings. There are a few columns with null values, but no columns have more than ~20% null values. There are some columns that contain dates stored as strings.\n",
    "* `3 date type`\n",
    "* `7 int type`\n",
    "* `10 string type`\n",
    "\n",
    "<h3> Training, validation, test subsets</h3>\n",
    "\n",
    "The proposed dataset has been split into 'training' and 'validation' subsets for training the model. The shapes are:\n",
    "\n",
    "* `training: (240 000, 20)`\n",
    "* `validation: (60 000, 20)`\n",
    "\n",
    "Then your model will be tested on a completely separate data of the used car dataset stored on the RAMP server.\n",
    "* `test: (71 528, 20)`"
   ]
  },
  {
   "cell_type": "markdown",
   "metadata": {
    "colab_type": "text",
    "id": "Z7RumTDXGyg_"
   },
   "source": [
    "##  <font color='#0000e6'> 1.2 Variables"
   ]
  },
  {
   "cell_type": "markdown",
   "metadata": {
    "colab_type": "text",
    "id": "5p2WzzxhGyhB"
   },
   "source": [
    "The train dataset consists of 20 following fields:\n",
    "<ol>\n",
    "    <li value=\"0\">  <b>dateCrawled</b> - When this ad was first crawled. All field-values are taken from this date.\n",
    "    <li>  <b>name</b> - Name of the car.\n",
    "    <li>  <b>seller</b> - Whether the seller is private or a dealer.\n",
    "    <li>  <b>offerType</b> - The type of listing\n",
    "    <li>  <b><i>PRICE</i></b> - The price (in euro) on the ad to sell the car. (to be predicted)\n",
    "    <li>  <b>abtest</b> - Whether the listing is included in an A/B test.\n",
    "    <li>  <b>vehicleType</b> - The vehicle Type.\n",
    "    <li>  <b>yearOfRegistration</b> - The year in which the car was first registered.\n",
    "    <li>  <b>gearbox</b> - The transmission type.\n",
    "    <li>  <b>powerPS</b> - The power of the car in PS (Pferdestärke - horse strength in German).\n",
    "    <li> <b>model</b> - The car model name.\n",
    "    <li> <b>kilometer</b> - How many kilometers the car has driven.\n",
    "    <li> <b>monthOfRegistration</b> - The month in which which year the car was first registered.\n",
    "    <li> <b>fuelType</b> - What type of fuel the car uses.\n",
    "    <li> <b>brand</b> - The brand of the car.\n",
    "    <li> <b>notRepairedDamage</b> - If the car has a damage which is not yet repaired.\n",
    "    <li> <b>dateCreated</b> - The date on which the ad at Ebay was created.\n",
    "    <li> <b>nrOfPictures</b> - The number of pictures in the ad.\n",
    "    <li> <b>postalCode</b> - The postal code for the location of the vehicle.\n",
    "    <li> <b>lastSeenOnline</b> - When the crawler saw this ad last online.\n",
    "</ol>\n",
    "\n",
    "The fields lastSeen and dateCreated could be used to estimate how long a car will be at least online before it is sold."
   ]
  },
  {
   "cell_type": "markdown",
   "metadata": {
    "colab_type": "text",
    "id": "rt3cEggCGyhC"
   },
   "source": [
    "## <font color='#0000e6'>  1.3 Aim and score metric"
   ]
  },
  {
   "cell_type": "markdown",
   "metadata": {
    "colab_type": "text",
    "id": "ALktZtBvGyhD"
   },
   "source": [
    "The predictive aim of this challenge is to use `train.csv` subset to build the model which could **predict the Price** for a new car ad given its caracteristics. You are suppose to ask **a regression problem**.\n",
    "\n",
    "<font color='red'>\n",
    "A unique score is used (**TO REPLACE IT BY OUR METRIC**):\n",
    "\n",
    "$$score =  |log_{10}(max(1,y\\_true)) - log_{10}(max(1,y\\_pred))|\n",
    "$$\n",
    "\n",
    "Score interpretation:\n",
    "\n",
    "* A lower score is better\n",
    "* If the difference between `y_true` and `y_pred` is less than 100 (4,6 in log10), the score would be nearly 0. That is why we use a sigmoid function which will take in account the similitude of y_true and y_pred and penalize huge values\n",
    "* The score is the same regardless of the order of `y_true` and `y_pred` in the equation.\n",
    "* If the difference in raw `y_true` and `y_pred` values is the same, the score is LOWER for smaller magnitudes of `y_true` and `y_pred`, because of the log\n",
    " </font>"
   ]
  },
  {
   "cell_type": "markdown",
   "metadata": {
    "colab_type": "text",
    "id": "CS7YtvESGyhE"
   },
   "source": [
    "## <font color='#0000e6'>  1.4 Required packages, imports and data loading"
   ]
  },
  {
   "cell_type": "markdown",
   "metadata": {
    "colab_type": "text",
    "id": "zVoTyTRBcc4p"
   },
   "source": [
    "* `pandas`\n",
    "* `numpy`\n",
    "* <font color='red'>`TO ADD MORE PACKAGES`</font>\n",
    "\n",
    "\n",
    "In addition, `ramp-workflow` is needed. This can be installed from the master branch on GitHub:\n",
    "\n",
    ">     python -m pip install https://api.github.com/repos/paris-saclay-cds/ramp-workflow/zipball/master\n",
    "    \n",
    "You can test locally your submission before sending it to the RAMP platform backend using the command `!ramp_test_submission --submission [your_kit_name]`.\n",
    "\n",
    "* Find more information about RAMP in the part <a href=\"#5.-RAMP-test-submission\" data-toc-modified-id=\"RAMP-test-submission-5\">5. RAMP test submission</a>."
   ]
  },
  {
   "cell_type": "code",
   "execution_count": 18,
   "metadata": {
    "colab": {},
    "colab_type": "code",
    "id": "hrZAWmV1GyhJ"
   },
   "outputs": [],
   "source": [
    "%matplotlib inline\n",
    "import folium\n",
    "from urllib.request import urlopen\n",
    "import json\n",
    "import imp\n",
    "import pandas as pd\n",
    "import numpy as np\n",
    "from matplotlib import pyplot as plt\n",
    "from matplotlib.cm import get_cmap\n",
    "import seaborn as sns\n",
    "import warnings\n",
    "import os\n",
    "import matplotlib as mpl\n",
    "mpl.style.use('seaborn') #Background\n",
    "warnings.filterwarnings('ignore')\n",
    "from sklearn.model_selection import train_test_split, RandomizedSearchCV"
   ]
  },
  {
   "cell_type": "code",
   "execution_count": 2,
   "metadata": {
    "colab": {},
    "colab_type": "code",
    "id": "cCXMbmlwG31_"
   },
   "outputs": [],
   "source": [
    "colab = False\n",
    "if colab:\n",
    "  path_train = \"https://github.com/SvetlanaPek/used_car_price_prediction/raw/master/data/train.csv.zip\"\n",
    "  path_test = \"https://github.com/SvetlanaPek/used_car_price_prediction/raw/master/data/test.csv.zip\"\n",
    "else:\n",
    "  path_train = \"data/train.csv.zip\"\n",
    "  path_test = \"data/test.csv.zip\" # This one will be not accessible part for participants (only on RAMP)\n",
    "\n",
    "train = pd.read_csv(path_train, encoding = \"ISO-8859-1\", low_memory=False, delimiter=',')\n",
    "test = pd.read_csv(path_test, encoding = \"ISO-8859-1\", low_memory=False, delimiter=',')\n",
    "\n",
    "#validation.head()\n",
    "#test.head()\n",
    "#train.head()\n",
    "\n",
    "y_train = train['price']\n",
    "X_train = train.drop('price',1)"
   ]
  },
  {
   "cell_type": "code",
   "execution_count": 3,
   "metadata": {
    "colab": {
     "base_uri": "https://localhost:8080/",
     "height": 170
    },
    "colab_type": "code",
    "id": "RVNf-UNnkW1t",
    "outputId": "b18b65c4-ea0c-41d3-b693-c09bee348e45"
   },
   "outputs": [
    {
     "data": {
      "text/plain": [
       "count    2.400000e+05\n",
       "mean     2.074380e+04\n",
       "std      4.439585e+06\n",
       "min      0.000000e+00\n",
       "25%      1.150000e+03\n",
       "50%      2.950000e+03\n",
       "75%      7.190000e+03\n",
       "max      2.147484e+09\n",
       "Name: price, dtype: float64"
      ]
     },
     "execution_count": 3,
     "metadata": {},
     "output_type": "execute_result"
    }
   ],
   "source": [
    "y_train.describe()\n",
    "#y_train[y_train<1].describe()"
   ]
  },
  {
   "cell_type": "markdown",
   "metadata": {
    "colab_type": "text",
    "id": "yKSIzNQyGyhH"
   },
   "source": [
    "# <font color='#0000e6'>  2. Exploratory data analysis\n",
    "\n",
    "<span><a href=\"#Table-of-contents\" data-toc-modified-id=\"Table-of-contents\"><span class=\"toc-item-num\">Back to the table of contents</span></a></span>"
   ]
  },
  {
   "cell_type": "markdown",
   "metadata": {
    "colab_type": "text",
    "id": "mqihfnspGyhm"
   },
   "source": [
    "## <font color='#0000e6'>  2.1 Overall data description"
   ]
  },
  {
   "cell_type": "code",
   "execution_count": 4,
   "metadata": {
    "colab": {
     "base_uri": "https://localhost:8080/",
     "height": 411
    },
    "colab_type": "code",
    "id": "NSNvr89AjqRt",
    "outputId": "0817c264-bd3f-4d8c-b58e-cf71f547ea03"
   },
   "outputs": [
    {
     "name": "stdout",
     "output_type": "stream",
     "text": [
      "Number of observations of train data: 240000\n"
     ]
    },
    {
     "data": {
      "text/html": [
       "<div>\n",
       "<style scoped>\n",
       "    .dataframe tbody tr th:only-of-type {\n",
       "        vertical-align: middle;\n",
       "    }\n",
       "\n",
       "    .dataframe tbody tr th {\n",
       "        vertical-align: top;\n",
       "    }\n",
       "\n",
       "    .dataframe thead th {\n",
       "        text-align: right;\n",
       "    }\n",
       "</style>\n",
       "<table border=\"1\" class=\"dataframe\">\n",
       "  <thead>\n",
       "    <tr style=\"text-align: right;\">\n",
       "      <th></th>\n",
       "      <th>dateCrawled</th>\n",
       "      <th>name</th>\n",
       "      <th>seller</th>\n",
       "      <th>offerType</th>\n",
       "      <th>abtest</th>\n",
       "      <th>vehicleType</th>\n",
       "      <th>yearOfRegistration</th>\n",
       "      <th>gearbox</th>\n",
       "      <th>powerPS</th>\n",
       "      <th>model</th>\n",
       "      <th>kilometer</th>\n",
       "      <th>monthOfRegistration</th>\n",
       "      <th>fuelType</th>\n",
       "      <th>brand</th>\n",
       "      <th>notRepairedDamage</th>\n",
       "      <th>dateCreated</th>\n",
       "      <th>nrOfPictures</th>\n",
       "      <th>postalCode</th>\n",
       "      <th>lastSeen</th>\n",
       "    </tr>\n",
       "  </thead>\n",
       "  <tbody>\n",
       "    <tr>\n",
       "      <th>0</th>\n",
       "      <td>2016-03-15 18:38:35</td>\n",
       "      <td>Audi_A6_Avant_2.7_TDI</td>\n",
       "      <td>privat</td>\n",
       "      <td>Angebot</td>\n",
       "      <td>control</td>\n",
       "      <td>kombi</td>\n",
       "      <td>2006</td>\n",
       "      <td>manuell</td>\n",
       "      <td>180</td>\n",
       "      <td>a6</td>\n",
       "      <td>150000</td>\n",
       "      <td>4</td>\n",
       "      <td>diesel</td>\n",
       "      <td>audi</td>\n",
       "      <td>NaN</td>\n",
       "      <td>2016-03-15 00:00:00</td>\n",
       "      <td>0</td>\n",
       "      <td>77963</td>\n",
       "      <td>2016-03-17 14:16:01</td>\n",
       "    </tr>\n",
       "    <tr>\n",
       "      <th>1</th>\n",
       "      <td>2016-03-12 17:43:15</td>\n",
       "      <td>CitroÃ«n_C5_Tourer_HDi_140_FAP_Tendance</td>\n",
       "      <td>privat</td>\n",
       "      <td>Angebot</td>\n",
       "      <td>test</td>\n",
       "      <td>kombi</td>\n",
       "      <td>2009</td>\n",
       "      <td>manuell</td>\n",
       "      <td>140</td>\n",
       "      <td>c5</td>\n",
       "      <td>150000</td>\n",
       "      <td>1</td>\n",
       "      <td>diesel</td>\n",
       "      <td>citroen</td>\n",
       "      <td>nein</td>\n",
       "      <td>2016-03-12 00:00:00</td>\n",
       "      <td>0</td>\n",
       "      <td>35447</td>\n",
       "      <td>2016-03-16 21:18:25</td>\n",
       "    </tr>\n",
       "    <tr>\n",
       "      <th>2</th>\n",
       "      <td>2016-03-23 01:02:36</td>\n",
       "      <td>Opel_Vectra_B_1.8_16V_LPG_Gas_Autogas</td>\n",
       "      <td>privat</td>\n",
       "      <td>Angebot</td>\n",
       "      <td>test</td>\n",
       "      <td>limousine</td>\n",
       "      <td>1998</td>\n",
       "      <td>manuell</td>\n",
       "      <td>115</td>\n",
       "      <td>vectra</td>\n",
       "      <td>150000</td>\n",
       "      <td>5</td>\n",
       "      <td>benzin</td>\n",
       "      <td>opel</td>\n",
       "      <td>nein</td>\n",
       "      <td>2016-03-23 00:00:00</td>\n",
       "      <td>0</td>\n",
       "      <td>34576</td>\n",
       "      <td>2016-04-05 02:16:17</td>\n",
       "    </tr>\n",
       "    <tr>\n",
       "      <th>3</th>\n",
       "      <td>2016-03-23 16:57:09</td>\n",
       "      <td>Audi_A3_2.0_TDI_Sportback_DPF_S_tronic</td>\n",
       "      <td>privat</td>\n",
       "      <td>Angebot</td>\n",
       "      <td>test</td>\n",
       "      <td>kombi</td>\n",
       "      <td>2012</td>\n",
       "      <td>NaN</td>\n",
       "      <td>0</td>\n",
       "      <td>a3</td>\n",
       "      <td>30000</td>\n",
       "      <td>3</td>\n",
       "      <td>diesel</td>\n",
       "      <td>audi</td>\n",
       "      <td>nein</td>\n",
       "      <td>2016-03-23 00:00:00</td>\n",
       "      <td>0</td>\n",
       "      <td>18439</td>\n",
       "      <td>2016-03-31 04:15:52</td>\n",
       "    </tr>\n",
       "    <tr>\n",
       "      <th>4</th>\n",
       "      <td>2016-03-11 09:53:39</td>\n",
       "      <td>Seat_Altea</td>\n",
       "      <td>privat</td>\n",
       "      <td>Angebot</td>\n",
       "      <td>control</td>\n",
       "      <td>NaN</td>\n",
       "      <td>2017</td>\n",
       "      <td>NaN</td>\n",
       "      <td>102</td>\n",
       "      <td>altea</td>\n",
       "      <td>150000</td>\n",
       "      <td>0</td>\n",
       "      <td>benzin</td>\n",
       "      <td>seat</td>\n",
       "      <td>NaN</td>\n",
       "      <td>2016-03-11 00:00:00</td>\n",
       "      <td>0</td>\n",
       "      <td>80686</td>\n",
       "      <td>2016-03-15 19:46:17</td>\n",
       "    </tr>\n",
       "  </tbody>\n",
       "</table>\n",
       "</div>"
      ],
      "text/plain": [
       "           dateCrawled                                     name  seller  \\\n",
       "0  2016-03-15 18:38:35                    Audi_A6_Avant_2.7_TDI  privat   \n",
       "1  2016-03-12 17:43:15  CitroÃ«n_C5_Tourer_HDi_140_FAP_Tendance  privat   \n",
       "2  2016-03-23 01:02:36    Opel_Vectra_B_1.8_16V_LPG_Gas_Autogas  privat   \n",
       "3  2016-03-23 16:57:09   Audi_A3_2.0_TDI_Sportback_DPF_S_tronic  privat   \n",
       "4  2016-03-11 09:53:39                               Seat_Altea  privat   \n",
       "\n",
       "  offerType   abtest vehicleType  yearOfRegistration  gearbox  powerPS  \\\n",
       "0   Angebot  control       kombi                2006  manuell      180   \n",
       "1   Angebot     test       kombi                2009  manuell      140   \n",
       "2   Angebot     test   limousine                1998  manuell      115   \n",
       "3   Angebot     test       kombi                2012      NaN        0   \n",
       "4   Angebot  control         NaN                2017      NaN      102   \n",
       "\n",
       "    model  kilometer  monthOfRegistration fuelType    brand notRepairedDamage  \\\n",
       "0      a6     150000                    4   diesel     audi               NaN   \n",
       "1      c5     150000                    1   diesel  citroen              nein   \n",
       "2  vectra     150000                    5   benzin     opel              nein   \n",
       "3      a3      30000                    3   diesel     audi              nein   \n",
       "4   altea     150000                    0   benzin     seat               NaN   \n",
       "\n",
       "           dateCreated  nrOfPictures  postalCode             lastSeen  \n",
       "0  2016-03-15 00:00:00             0       77963  2016-03-17 14:16:01  \n",
       "1  2016-03-12 00:00:00             0       35447  2016-03-16 21:18:25  \n",
       "2  2016-03-23 00:00:00             0       34576  2016-04-05 02:16:17  \n",
       "3  2016-03-23 00:00:00             0       18439  2016-03-31 04:15:52  \n",
       "4  2016-03-11 00:00:00             0       80686  2016-03-15 19:46:17  "
      ]
     },
     "execution_count": 4,
     "metadata": {},
     "output_type": "execute_result"
    }
   ],
   "source": [
    "print('Number of observations of train data: %d'%X_train.shape[0])\n",
    "X_train.head()"
   ]
  },
  {
   "cell_type": "markdown",
   "metadata": {
    "colab_type": "text",
    "id": "HDWapy4Ah-kq"
   },
   "source": [
    "The variables in the data and  their type"
   ]
  },
  {
   "cell_type": "code",
   "execution_count": 5,
   "metadata": {
    "colab": {
     "base_uri": "https://localhost:8080/",
     "height": 357
    },
    "colab_type": "code",
    "id": "dsQyukVLHFhu",
    "outputId": "fd464736-fb91-492b-e919-9a17ff56859c"
   },
   "outputs": [
    {
     "data": {
      "text/plain": [
       "dateCrawled            object\n",
       "name                   object\n",
       "seller                 object\n",
       "offerType              object\n",
       "abtest                 object\n",
       "vehicleType            object\n",
       "yearOfRegistration      int64\n",
       "gearbox                object\n",
       "powerPS                 int64\n",
       "model                  object\n",
       "kilometer               int64\n",
       "monthOfRegistration     int64\n",
       "fuelType               object\n",
       "brand                  object\n",
       "notRepairedDamage      object\n",
       "dateCreated            object\n",
       "nrOfPictures            int64\n",
       "postalCode              int64\n",
       "lastSeen               object\n",
       "dtype: object"
      ]
     },
     "execution_count": 5,
     "metadata": {},
     "output_type": "execute_result"
    }
   ],
   "source": [
    "X_train.dtypes"
   ]
  },
  {
   "cell_type": "markdown",
   "metadata": {
    "colab_type": "text",
    "id": "Mnkk4P8miqDH"
   },
   "source": [
    "A description of the \"numerical\" variables of the data."
   ]
  },
  {
   "cell_type": "code",
   "execution_count": 6,
   "metadata": {
    "colab": {
     "base_uri": "https://localhost:8080/",
     "height": 297
    },
    "colab_type": "code",
    "id": "pXg_9NHRgGui",
    "outputId": "922388a3-82f3-476d-e991-c733e3e343d4"
   },
   "outputs": [
    {
     "data": {
      "text/html": [
       "<div>\n",
       "<style scoped>\n",
       "    .dataframe tbody tr th:only-of-type {\n",
       "        vertical-align: middle;\n",
       "    }\n",
       "\n",
       "    .dataframe tbody tr th {\n",
       "        vertical-align: top;\n",
       "    }\n",
       "\n",
       "    .dataframe thead th {\n",
       "        text-align: right;\n",
       "    }\n",
       "</style>\n",
       "<table border=\"1\" class=\"dataframe\">\n",
       "  <thead>\n",
       "    <tr style=\"text-align: right;\">\n",
       "      <th></th>\n",
       "      <th>yearOfRegistration</th>\n",
       "      <th>powerPS</th>\n",
       "      <th>kilometer</th>\n",
       "      <th>monthOfRegistration</th>\n",
       "      <th>nrOfPictures</th>\n",
       "      <th>postalCode</th>\n",
       "    </tr>\n",
       "  </thead>\n",
       "  <tbody>\n",
       "    <tr>\n",
       "      <th>count</th>\n",
       "      <td>240000.000000</td>\n",
       "      <td>240000.000000</td>\n",
       "      <td>240000.000000</td>\n",
       "      <td>240000.000000</td>\n",
       "      <td>240000.0</td>\n",
       "      <td>240000.000000</td>\n",
       "    </tr>\n",
       "    <tr>\n",
       "      <th>mean</th>\n",
       "      <td>2004.670488</td>\n",
       "      <td>115.727642</td>\n",
       "      <td>125671.937500</td>\n",
       "      <td>5.733475</td>\n",
       "      <td>0.0</td>\n",
       "      <td>50843.261937</td>\n",
       "    </tr>\n",
       "    <tr>\n",
       "      <th>std</th>\n",
       "      <td>95.523918</td>\n",
       "      <td>201.143841</td>\n",
       "      <td>40052.890513</td>\n",
       "      <td>3.712346</td>\n",
       "      <td>0.0</td>\n",
       "      <td>25799.874429</td>\n",
       "    </tr>\n",
       "    <tr>\n",
       "      <th>min</th>\n",
       "      <td>1000.000000</td>\n",
       "      <td>0.000000</td>\n",
       "      <td>5000.000000</td>\n",
       "      <td>0.000000</td>\n",
       "      <td>0.0</td>\n",
       "      <td>1067.000000</td>\n",
       "    </tr>\n",
       "    <tr>\n",
       "      <th>25%</th>\n",
       "      <td>1999.000000</td>\n",
       "      <td>69.000000</td>\n",
       "      <td>125000.000000</td>\n",
       "      <td>3.000000</td>\n",
       "      <td>0.0</td>\n",
       "      <td>30519.000000</td>\n",
       "    </tr>\n",
       "    <tr>\n",
       "      <th>50%</th>\n",
       "      <td>2003.000000</td>\n",
       "      <td>105.000000</td>\n",
       "      <td>150000.000000</td>\n",
       "      <td>6.000000</td>\n",
       "      <td>0.0</td>\n",
       "      <td>49632.000000</td>\n",
       "    </tr>\n",
       "    <tr>\n",
       "      <th>75%</th>\n",
       "      <td>2008.000000</td>\n",
       "      <td>150.000000</td>\n",
       "      <td>150000.000000</td>\n",
       "      <td>9.000000</td>\n",
       "      <td>0.0</td>\n",
       "      <td>71634.000000</td>\n",
       "    </tr>\n",
       "    <tr>\n",
       "      <th>max</th>\n",
       "      <td>9999.000000</td>\n",
       "      <td>20000.000000</td>\n",
       "      <td>150000.000000</td>\n",
       "      <td>12.000000</td>\n",
       "      <td>0.0</td>\n",
       "      <td>99998.000000</td>\n",
       "    </tr>\n",
       "  </tbody>\n",
       "</table>\n",
       "</div>"
      ],
      "text/plain": [
       "       yearOfRegistration        powerPS      kilometer  monthOfRegistration  \\\n",
       "count       240000.000000  240000.000000  240000.000000        240000.000000   \n",
       "mean          2004.670488     115.727642  125671.937500             5.733475   \n",
       "std             95.523918     201.143841   40052.890513             3.712346   \n",
       "min           1000.000000       0.000000    5000.000000             0.000000   \n",
       "25%           1999.000000      69.000000  125000.000000             3.000000   \n",
       "50%           2003.000000     105.000000  150000.000000             6.000000   \n",
       "75%           2008.000000     150.000000  150000.000000             9.000000   \n",
       "max           9999.000000   20000.000000  150000.000000            12.000000   \n",
       "\n",
       "       nrOfPictures     postalCode  \n",
       "count      240000.0  240000.000000  \n",
       "mean            0.0   50843.261937  \n",
       "std             0.0   25799.874429  \n",
       "min             0.0    1067.000000  \n",
       "25%             0.0   30519.000000  \n",
       "50%             0.0   49632.000000  \n",
       "75%             0.0   71634.000000  \n",
       "max             0.0   99998.000000  "
      ]
     },
     "execution_count": 6,
     "metadata": {},
     "output_type": "execute_result"
    }
   ],
   "source": [
    "X_train.describe()"
   ]
  },
  {
   "cell_type": "markdown",
   "metadata": {
    "colab_type": "text",
    "id": "OT13nDtHgNAr"
   },
   "source": [
    "**Observations**:\n",
    "- monthOfRegistration: it is not a numerical variable.\n",
    "- nrOfPictures: it has only a value -zero- (0), then this is not an useful variable.\n",
    "- yearOfRegistration: it has a maximun value equal to 9999, this is obviously an error.\n",
    "- powerPS: its maximun value is 20 000 which is not correct according to the [list of cars by horsepower.](https://en.wikipedia.org/wiki/List_of_production_cars_by_horsepower)"
   ]
  },
  {
   "cell_type": "markdown",
   "metadata": {
    "colab_type": "text",
    "id": "SjXcf05E49t-"
   },
   "source": [
    "*offertType* and  *seller* are categorical variables but  they have a category that represents over $99\\%$ of observations, therefore  we won't use them. In addition, the variable *abtest* seems to be internal to E-Bay, probably the control or test groups for some internal A/B testing, then  we will drop it."
   ]
  },
  {
   "cell_type": "code",
   "execution_count": 7,
   "metadata": {
    "colab": {
     "base_uri": "https://localhost:8080/",
     "height": 255
    },
    "colab_type": "code",
    "id": "0KYfnW7uyrxT",
    "outputId": "9da7569b-735b-4a43-be32-563fd34dea14"
   },
   "outputs": [
    {
     "name": "stdout",
     "output_type": "stream",
     "text": [
      " Variable: Offer type\n",
      "Angebot    99.997083\n",
      "Gesuch      0.002917\n",
      "Name: offerType, dtype: float64\n",
      "\n",
      " Variable: Seller\n",
      "privat        99.999583\n",
      "gewerblich     0.000417\n",
      "Name: seller, dtype: float64\n",
      "\n",
      " Variable:  Abtest\n",
      "test       51.871667\n",
      "control    48.128333\n",
      "Name: abtest, dtype: float64\n"
     ]
    }
   ],
   "source": [
    "print(' Variable: Offer type')\n",
    "print(X_train['offerType'].value_counts(normalize=True).mul(100))\n",
    "print('\\n Variable: Seller')\n",
    "print(X_train['seller'].value_counts(normalize=True).mul(100))\n",
    "print('\\n Variable:  Abtest')\n",
    "print(X_train['abtest'].value_counts(normalize=True).mul(100))"
   ]
  },
  {
   "cell_type": "markdown",
   "metadata": {
    "colab_type": "text",
    "id": "T00mUjZp6ZPW"
   },
   "source": [
    "--------------- Montrer des maps ----- \n",
    "il faut finir \n",
    "\n"
   ]
  },
  {
   "cell_type": "code",
   "execution_count": 8,
   "metadata": {
    "colab": {
     "base_uri": "https://localhost:8080/",
     "height": 34
    },
    "colab_type": "code",
    "id": "O0vuHtSiw_OF",
    "outputId": "40025aec-9a87-44f2-f65f-8ceeec655a72"
   },
   "outputs": [
    {
     "data": {
      "text/plain": [
       "(8089, 2)"
      ]
     },
     "execution_count": 8,
     "metadata": {},
     "output_type": "execute_result"
    }
   ],
   "source": [
    "# Number of observations by zipcode (map)\n",
    "zipcode = pd.DataFrame()\n",
    "zipcode['count_ann'] = X_train['postalCode'].value_counts()\n",
    "zipcode.reset_index(level=0, inplace=True)\n",
    "zipcode.shape"
   ]
  },
  {
   "cell_type": "markdown",
   "metadata": {
    "colab_type": "text",
    "id": "IVwMFEhTkq1D"
   },
   "source": [
    "\n",
    "In addition, the variables that have missing values, in increasing order, are:\n",
    "  - gearbox $5.48\\%$\n",
    "  - model $5.51\\%$\n",
    "  - fuelType $9.03\\%$\n",
    "  - vehicleType $10.24\\%$\n",
    "  - notRepairedDamage $19.46\\%$"
   ]
  },
  {
   "cell_type": "code",
   "execution_count": 9,
   "metadata": {
    "colab": {
     "base_uri": "https://localhost:8080/",
     "height": 376
    },
    "colab_type": "code",
    "id": "uUUWYIU-i1cb",
    "outputId": "6cf18a59-77fe-412a-aec0-4022f12f421a"
   },
   "outputs": [
    {
     "data": {
      "image/png": "[encoded data removed]",
      "text/plain": [
       "<Figure size 432x288 with 1 Axes>"
      ]
     },
     "metadata": {
      "needs_background": "light"
     },
     "output_type": "display_data"
    }
   ],
   "source": [
    "#print(X_train.isna().sum().mul(100/X_train.shape[0]))\n",
    "#col = ['indianred', 'forestgreen', 'royalblue', 'darkorchid', 'darkcyan', 'darkgoldenrod','brown','darkorange','olivedrab']\n",
    "col = [i for i in get_cmap('tab20').colors]\n",
    "missing = X_train.isna().sum().mul(100/X_train.shape[0]).plot(kind='barh',title='Missing Values',color=col)\n",
    "missing.set_xlabel('Percentage of missing values')\n",
    "plt.show()"
   ]
  },
  {
   "cell_type": "code",
   "execution_count": 19,
   "metadata": {},
   "outputs": [],
   "source": [
    "postal_codes = pd.read_csv(\"https://gist.githubusercontent.com/jbspeakr/4565964/raw/4083f8b8933f0e9a64dafc943ecbae496f9d65d2/German-Zip-Codes.csv\", low_memory=False, delimiter=';')\n",
    "jsonurl = urlopen(\"https://raw.githubusercontent.com/isellsoap/deutschlandGeoJSON/master/2_bundeslaender/1_sehr_hoch.geojson\")\n",
    "geodata = json.loads(jsonurl.read())"
   ]
  },
  {
   "cell_type": "code",
   "execution_count": 20,
   "metadata": {},
   "outputs": [],
   "source": [
    "def remove_outliers(X):\n",
    "    return X[X[\"price\"]<1e6]"
   ]
  },
  {
   "cell_type": "code",
   "execution_count": 21,
   "metadata": {},
   "outputs": [],
   "source": [
    "def quantile_75(x):\n",
    "    return np.percentile(x, 75)\n",
    "\n",
    "def map_dataframe(X_train, y_train, ):\n",
    "    a = X_train.copy()\n",
    "    a[\"price\"] = y_train\n",
    "    a = remove_outliers(a)\n",
    "    d = pd.merge(a, postal_codes, left_on=\"postalCode\", right_on =\"Plz\", how=\"left\" ).drop_duplicates()\n",
    "    map_viz_data = d[[\"price\", \"Bundesland\"]].groupby(\"Bundesland\").agg([\"count\", \"sum\", quantile_75 ])[\"price\"].reset_index()\n",
    "    map_viz_data[\"mean\"] = map_viz_data[\"sum\"]/map_viz_data[\"count\"]\n",
    "    return map_viz_data\n",
    "    "
   ]
  },
  {
   "cell_type": "code",
   "execution_count": 22,
   "metadata": {},
   "outputs": [
    {
     "data": {
      "text/html": [
       "<div>\n",
       "<style scoped>\n",
       "    .dataframe tbody tr th:only-of-type {\n",
       "        vertical-align: middle;\n",
       "    }\n",
       "\n",
       "    .dataframe tbody tr th {\n",
       "        vertical-align: top;\n",
       "    }\n",
       "\n",
       "    .dataframe thead th {\n",
       "        text-align: right;\n",
       "    }\n",
       "</style>\n",
       "<table border=\"1\" class=\"dataframe\">\n",
       "  <thead>\n",
       "    <tr style=\"text-align: right;\">\n",
       "      <th></th>\n",
       "      <th>Bundesland</th>\n",
       "      <th>count</th>\n",
       "      <th>sum</th>\n",
       "      <th>quantile_75</th>\n",
       "      <th>mean</th>\n",
       "    </tr>\n",
       "  </thead>\n",
       "  <tbody>\n",
       "    <tr>\n",
       "      <th>0</th>\n",
       "      <td>Baden-Württemberg</td>\n",
       "      <td>35180</td>\n",
       "      <td>230040497</td>\n",
       "      <td>8200</td>\n",
       "      <td>6538.956708</td>\n",
       "    </tr>\n",
       "    <tr>\n",
       "      <th>1</th>\n",
       "      <td>Bayern</td>\n",
       "      <td>45586</td>\n",
       "      <td>326536640</td>\n",
       "      <td>9000</td>\n",
       "      <td>7163.090422</td>\n",
       "    </tr>\n",
       "    <tr>\n",
       "      <th>2</th>\n",
       "      <td>Berlin</td>\n",
       "      <td>9961</td>\n",
       "      <td>58521150</td>\n",
       "      <td>7299</td>\n",
       "      <td>5875.027608</td>\n",
       "    </tr>\n",
       "    <tr>\n",
       "      <th>3</th>\n",
       "      <td>Brandenburg</td>\n",
       "      <td>62109</td>\n",
       "      <td>248206156</td>\n",
       "      <td>4990</td>\n",
       "      <td>3996.299345</td>\n",
       "    </tr>\n",
       "    <tr>\n",
       "      <th>4</th>\n",
       "      <td>Bremen</td>\n",
       "      <td>2081</td>\n",
       "      <td>11392774</td>\n",
       "      <td>6000</td>\n",
       "      <td>5474.663143</td>\n",
       "    </tr>\n",
       "    <tr>\n",
       "      <th>5</th>\n",
       "      <td>Hamburg</td>\n",
       "      <td>4586</td>\n",
       "      <td>30282520</td>\n",
       "      <td>7800</td>\n",
       "      <td>6603.253380</td>\n",
       "    </tr>\n",
       "    <tr>\n",
       "      <th>6</th>\n",
       "      <td>Hessen</td>\n",
       "      <td>23814</td>\n",
       "      <td>149390291</td>\n",
       "      <td>7890</td>\n",
       "      <td>6273.212858</td>\n",
       "    </tr>\n",
       "    <tr>\n",
       "      <th>7</th>\n",
       "      <td>Mecklenburg-Vorpommern</td>\n",
       "      <td>34986</td>\n",
       "      <td>126173022</td>\n",
       "      <td>4450</td>\n",
       "      <td>3606.386040</td>\n",
       "    </tr>\n",
       "    <tr>\n",
       "      <th>8</th>\n",
       "      <td>Niedersachsen</td>\n",
       "      <td>43013</td>\n",
       "      <td>218190358</td>\n",
       "      <td>6499</td>\n",
       "      <td>5072.660777</td>\n",
       "    </tr>\n",
       "    <tr>\n",
       "      <th>9</th>\n",
       "      <td>Nordrhein-Westfalen</td>\n",
       "      <td>58397</td>\n",
       "      <td>312472000</td>\n",
       "      <td>6600</td>\n",
       "      <td>5350.822816</td>\n",
       "    </tr>\n",
       "    <tr>\n",
       "      <th>10</th>\n",
       "      <td>Rheinland-Pfalz</td>\n",
       "      <td>73475</td>\n",
       "      <td>402554773</td>\n",
       "      <td>7000</td>\n",
       "      <td>5478.799224</td>\n",
       "    </tr>\n",
       "    <tr>\n",
       "      <th>11</th>\n",
       "      <td>Saarland</td>\n",
       "      <td>4024</td>\n",
       "      <td>21080566</td>\n",
       "      <td>6500</td>\n",
       "      <td>5238.709245</td>\n",
       "    </tr>\n",
       "    <tr>\n",
       "      <th>12</th>\n",
       "      <td>Sachsen</td>\n",
       "      <td>22941</td>\n",
       "      <td>109267397</td>\n",
       "      <td>5050</td>\n",
       "      <td>4762.974456</td>\n",
       "    </tr>\n",
       "    <tr>\n",
       "      <th>13</th>\n",
       "      <td>Sachsen-Anhalt</td>\n",
       "      <td>32038</td>\n",
       "      <td>114994710</td>\n",
       "      <td>4500</td>\n",
       "      <td>3589.322367</td>\n",
       "    </tr>\n",
       "    <tr>\n",
       "      <th>14</th>\n",
       "      <td>Schlewig-Holstein</td>\n",
       "      <td>34014</td>\n",
       "      <td>153022126</td>\n",
       "      <td>5500</td>\n",
       "      <td>4498.798318</td>\n",
       "    </tr>\n",
       "    <tr>\n",
       "      <th>15</th>\n",
       "      <td>Thüringen</td>\n",
       "      <td>34696</td>\n",
       "      <td>177002435</td>\n",
       "      <td>6299</td>\n",
       "      <td>5101.522798</td>\n",
       "    </tr>\n",
       "  </tbody>\n",
       "</table>\n",
       "</div>"
      ],
      "text/plain": [
       "                Bundesland  count        sum  quantile_75         mean\n",
       "0        Baden-Württemberg  35180  230040497         8200  6538.956708\n",
       "1                   Bayern  45586  326536640         9000  7163.090422\n",
       "2                   Berlin   9961   58521150         7299  5875.027608\n",
       "3              Brandenburg  62109  248206156         4990  3996.299345\n",
       "4                   Bremen   2081   11392774         6000  5474.663143\n",
       "5                  Hamburg   4586   30282520         7800  6603.253380\n",
       "6                   Hessen  23814  149390291         7890  6273.212858\n",
       "7   Mecklenburg-Vorpommern  34986  126173022         4450  3606.386040\n",
       "8            Niedersachsen  43013  218190358         6499  5072.660777\n",
       "9      Nordrhein-Westfalen  58397  312472000         6600  5350.822816\n",
       "10         Rheinland-Pfalz  73475  402554773         7000  5478.799224\n",
       "11                Saarland   4024   21080566         6500  5238.709245\n",
       "12                 Sachsen  22941  109267397         5050  4762.974456\n",
       "13          Sachsen-Anhalt  32038  114994710         4500  3589.322367\n",
       "14       Schlewig-Holstein  34014  153022126         5500  4498.798318\n",
       "15               Thüringen  34696  177002435         6299  5101.522798"
      ]
     },
     "execution_count": 22,
     "metadata": {},
     "output_type": "execute_result"
    }
   ],
   "source": [
    "map_df = map_dataframe(X_train, y_train)\n",
    "map_df"
   ]
  },
  {
   "cell_type": "code",
   "execution_count": 23,
   "metadata": {},
   "outputs": [],
   "source": [
    "def map_visualize(df):\n",
    "    for key in [\"count\", \"quantile_75\", \"mean\"]:\n",
    "        m = folium.Map(location=[51.1657, 10.4515], zoom_start=5)\n",
    "\n",
    "        folium.Choropleth(\n",
    "            geo_data=geodata,\n",
    "            data=df,\n",
    "            columns=['Bundesland', key],\n",
    "            key_on='feature.properties.NAME_1',\n",
    "            fill_color='BuPu',\n",
    "            fill_opacity=0.7,\n",
    "            line_opacity=0.5,\n",
    "            legend_name='Car Price average',\n",
    "            reset=True\n",
    "        ).add_to(m)\n",
    "\n",
    "        m.save(key+'.html')"
   ]
  },
  {
   "cell_type": "code",
   "execution_count": 24,
   "metadata": {},
   "outputs": [],
   "source": [
    "map_visualize(map_df)"
   ]
  },
  {
   "cell_type": "code",
   "execution_count": 25,
   "metadata": {},
   "outputs": [
    {
     "data": {
      "text/html": [
       "\n",
       "        <iframe\n",
       "            width=\"500\"\n",
       "            height=\"400\"\n",
       "            src=\"count.html\"\n",
       "            frameborder=\"0\"\n",
       "            allowfullscreen\n",
       "        ></iframe>\n",
       "        "
      ],
      "text/plain": [
       "<IPython.lib.display.IFrame at 0x2e73082b7f0>"
      ]
     },
     "execution_count": 25,
     "metadata": {},
     "output_type": "execute_result"
    }
   ],
   "source": [
    "from IPython.display import IFrame\n",
    "IFrame(\"count.html\", width=500, height=400)"
   ]
  },
  {
   "cell_type": "code",
   "execution_count": 26,
   "metadata": {},
   "outputs": [
    {
     "data": {
      "text/html": [
       "\n",
       "        <iframe\n",
       "            width=\"500\"\n",
       "            height=\"400\"\n",
       "            src=\"quantile_75.html\"\n",
       "            frameborder=\"0\"\n",
       "            allowfullscreen\n",
       "        ></iframe>\n",
       "        "
      ],
      "text/plain": [
       "<IPython.lib.display.IFrame at 0x2e73082b748>"
      ]
     },
     "execution_count": 26,
     "metadata": {},
     "output_type": "execute_result"
    }
   ],
   "source": [
    "from IPython.display import IFrame\n",
    "IFrame(\"quantile_75.html\", width=500, height=400)"
   ]
  },
  {
   "cell_type": "code",
   "execution_count": 27,
   "metadata": {},
   "outputs": [
    {
     "data": {
      "text/html": [
       "\n",
       "        <iframe\n",
       "            width=\"500\"\n",
       "            height=\"400\"\n",
       "            src=\"mean.html\"\n",
       "            frameborder=\"0\"\n",
       "            allowfullscreen\n",
       "        ></iframe>\n",
       "        "
      ],
      "text/plain": [
       "<IPython.lib.display.IFrame at 0x2e73082b828>"
      ]
     },
     "execution_count": 27,
     "metadata": {},
     "output_type": "execute_result"
    }
   ],
   "source": [
    "from IPython.display import IFrame\n",
    "IFrame(\"mean.html\", width=500, height=400)"
   ]
  },
  {
   "cell_type": "markdown",
   "metadata": {
    "colab_type": "text",
    "id": "HXQVrrL7Gyh0"
   },
   "source": [
    "## <font color='#0000e6'>  2.2 Exploring vehicle variables"
   ]
  },
  {
   "cell_type": "markdown",
   "metadata": {
    "colab_type": "text",
    "id": "T8NPp9uyROiL"
   },
   "source": [
    "Categorical Variables:\n",
    "\n",
    "- <font color='#0000e6'> Model:</font> this  variable contains 251 different values. We show the top 10.\n",
    "\n",
    "\n",
    "- <font color='#0000e6'> Brand:</font> it has many levels (40) so we will  show only the top 10.\n",
    "\n",
    "- <font color='#0000e6'> Vehicle Type: </font> it has 8 levels and indicates the body style of the car.\n",
    "\n",
    " We can see that 30% of cars are **limousines** and less than 5% are **andere**.\n",
    "\n",
    "- <font color='#0000e6'> Fuel Type:</font> there are 7 categories but only two are the ones that represent more than 90% of the data.\n",
    "\n",
    "\n",
    "- <font color='#0000e6'> Transmission Type:</font>\n",
    "in this  variable we have 2 labels, manual and automatic.\n",
    "\n",
    "- <font color='#0000e6'> Not repaired damage:</font> it can only take two values: “yes” or “no”, it refers to potential unrepaired damage on the vehicle being sold."
   ]
  },
  {
   "cell_type": "code",
   "execution_count": 12,
   "metadata": {
    "colab": {
     "base_uri": "https://localhost:8080/",
     "height": 949
    },
    "colab_type": "code",
    "id": "YimtQ3N-Rfq8",
    "outputId": "eccdd961-b3f1-456b-8b24-ed5b13ee0f51"
   },
   "outputs": [
    {
     "data": {
      "image/png": "[encoded data removed]",
      "text/plain": [
       "<Figure size 1296x1152 with 6 Axes>"
      ]
     },
     "metadata": {
      "needs_background": "light"
     },
     "output_type": "display_data"
    }
   ],
   "source": [
    "figs = (18,16)\n",
    "plt.subplots_adjust(hspace = 0.3)#bottom = 1.5)\n",
    "xlabel = 'Percentage (%)'\n",
    "plt.subplot(3,2,1)\n",
    "model = X_train['model'].value_counts(normalize=True).sort_values(ascending=False)[0:9].mul(100).plot(kind='barh', title='Model',\n",
    "                                         figsize=figs,fontsize=12, color=col)\n",
    "model.set_xlabel(xlabel)\n",
    "plt.subplot(3,2,2)\n",
    "brand = X_train['brand'].value_counts(normalize=True).sort_values(ascending=False)[0:9].mul(100).plot(kind='barh', title='Brand',\n",
    "                                         figsize=figs, fontsize=12,color = col)\n",
    "brand.set_xlabel(xlabel)\n",
    "plt.subplot(3,2,3)\n",
    "vehicle = X_train['vehicleType'].value_counts(normalize=True).mul(100).plot(kind='barh', title='Vehicle Type',\n",
    "                                         figsize=figs,fontsize=12, color=col)\n",
    "vehicle.set_xlabel(xlabel)\n",
    "plt.subplot(3,2,4)\n",
    "fuel = X_train['fuelType'].value_counts(normalize=True).mul(100).plot(kind='barh', title='Fuel Type',\n",
    "                                         figsize=figs,fontsize=12, color=col)\n",
    "fuel.set_xlabel(xlabel)\n",
    "plt.subplot(3,2,5)\n",
    "transm = X_train['gearbox'].value_counts(normalize=True).mul(100).plot(kind='barh', title='Transmission Type',\n",
    "                                         figsize=figs,fontsize=12, color=col)\n",
    "transm.set_xlabel(xlabel)\n",
    "plt.subplot(3,2,6)\n",
    "damage = X_train['notRepairedDamage'].value_counts(normalize=True).mul(100).plot(kind='barh', title='Not repaired damage',\n",
    "                                         figsize=figs,fontsize=12, color=col)\n",
    "damage.set_xlabel(xlabel)\n",
    "plt.show()"
   ]
  },
  {
   "cell_type": "markdown",
   "metadata": {
    "colab_type": "text",
    "id": "H_q_AU596DMb"
   },
   "source": [
    "Numerical Variables:\n",
    "- <font color='#0000e6'>  Engine Power: </font>  we can observe that there are about $10\\%$ of values equal to zero, which is not possible in reality.\n",
    "- <font color='#0000e6'>  Kilometer: </font> it is an important variable because mileage is one of the most important pieces of information when it comes to used cars."
   ]
  },
  {
   "cell_type": "code",
   "execution_count": 13,
   "metadata": {
    "colab": {
     "base_uri": "https://localhost:8080/",
     "height": 335
    },
    "colab_type": "code",
    "id": "rdKEwpaI6XsN",
    "outputId": "acfaa3fa-8f63-4d75-bd89-c9f1dea589de"
   },
   "outputs": [
    {
     "data": {
      "image/png": "[encoded data removed]",
      "text/plain": [
       "<Figure size 1296x360 with 2 Axes>"
      ]
     },
     "metadata": {
      "needs_background": "light"
     },
     "output_type": "display_data"
    }
   ],
   "source": [
    "figs = (18,5)\n",
    "plt.subplots_adjust(hspace = 0.3)#bottom = 1.5)\n",
    "plt.subplot(1,2,1)\n",
    "pw = X_train['powerPS'].plot(kind='hist', bins=2000,normed = True, color = col, title = 'Engine Power', label='', figsize=figs)\n",
    "pw.set_xlim((0,600))\n",
    "#pw.set_ylim((0,35000))\n",
    "plt.subplot(1,2,2)\n",
    "km = X_train['kilometer'].plot(kind='hist', bins=50,normed = True, color = col, title = 'Kilometer', label='', figsize=figs)\n",
    "#km.set_xlim((0,600))\n",
    "#km.set_ylim((0,35000))\n",
    "plt.show()"
   ]
  },
  {
   "cell_type": "markdown",
   "metadata": {
    "colab_type": "text",
    "id": "cNKH2jnMGyh8"
   },
   "source": [
    "##  <font color='#0000e6'> 2.3 Exploring date variables"
   ]
  },
  {
   "cell_type": "markdown",
   "metadata": {
    "colab_type": "text",
    "id": "RoWzjfdSdtik"
   },
   "source": [
    "- <font color='#0000e6'> Year of registration: </font> \n",
    "We visualize the data from 1960 to the present year (2019).\n",
    "\n",
    " In the  plot,   we observe three different periods, where there were more car registrations, compared to previous and subsequent years. These periods are:\n",
    "\n",
    " - 1999 - 2001\n",
    " - 2005 - 2006\n",
    " - 2016 - 2018\n",
    "\n",
    " In order to explain these data in more detail, it is necessary to investigate more about the history of German industry.\n",
    "<br>\n",
    "Extra note:  The automotive industry crisis of 2008–2010 was a part of the financial crisis of 2007–2008 and the resulting Great Recession.\n",
    "\n",
    "- <font color='#0000e6'>  Month of Registration: </font>\n",
    "This is a categorical variable. January, March and June are strongest months for vehicle registration."
   ]
  },
  {
   "cell_type": "code",
   "execution_count": 14,
   "metadata": {
    "colab": {
     "base_uri": "https://localhost:8080/",
     "height": 407
    },
    "colab_type": "code",
    "id": "rrFHxoMqaoss",
    "outputId": "a9bcc9d7-732a-4064-b7cc-5caf658c60ac"
   },
   "outputs": [
    {
     "data": {
      "image/png": "[encoded data removed]",
      "text/plain": [
       "<Figure size 1440x432 with 2 Axes>"
      ]
     },
     "metadata": {
      "needs_background": "light"
     },
     "output_type": "display_data"
    }
   ],
   "source": [
    "#print(X_train['yearOfRegistration'].describe())\n",
    "#plt.figure(figsize=(2,5))\n",
    "plt.subplot(1,2,1)\n",
    "yor = X_train['yearOfRegistration'].plot(kind='hist', bins=9000,title = 'Year of registration', color = col,label='',  figsize=(20,6))\n",
    "yor.set_xlim((1960,2019))\n",
    "yor.set_xlabel('Year')\n",
    "yor.axvline(x=1999,color = col[2], label='Period 1')\n",
    "yor.axvline(x=2001,color = col[2])\n",
    "yor.axvline(x=2005,color = col[5], label='Period 2')\n",
    "yor.axvline(x=2006,color = col[5])\n",
    "yor.axvline(x=2016,color = col[6], label='Period 3')\n",
    "yor.axvline(x=2018,color = col[6])\n",
    "yor.legend()\n",
    "plt.subplot(1,2,2)\n",
    "mor = X_train['monthOfRegistration'].value_counts(normalize=True).mul(100).sort_index().plot(kind='bar', \n",
    "                                         title='Month of regsitration',\n",
    "                                         fontsize=12, color=col, figsize=(20,6))\n",
    "mor.set_xlabel('Month')\n",
    "mor.set_ylabel('Percentage %')\n",
    "plt.show()"
   ]
  },
  {
   "cell_type": "markdown",
   "metadata": {
    "colab_type": "text",
    "id": "975gh-9vw80L"
   },
   "source": [
    "##  <font color='#0000e6'> 2.4 Exploring relations with the price variable. \n",
    "In this section, we will examine the variables with respect to the price variable, which is the variable to predict.\n"
   ]
  },
  {
   "cell_type": "markdown",
   "metadata": {
    "colab_type": "text",
    "id": "09A8zcOv3xF0"
   },
   "source": [
    "- <font color='#0000e6'>  Price : </font>  From the summary, we can see that some prices gou up to over  $2 \\times10^{9}$  "
   ]
  },
  {
   "cell_type": "code",
   "execution_count": 15,
   "metadata": {
    "colab": {
     "base_uri": "https://localhost:8080/",
     "height": 170
    },
    "colab_type": "code",
    "id": "L3eAcLH335br",
    "outputId": "7860abea-2806-46a9-905f-eef9a4704834"
   },
   "outputs": [
    {
     "data": {
      "text/plain": [
       "count    2.400000e+05\n",
       "mean     2.074380e+04\n",
       "std      4.439585e+06\n",
       "min      0.000000e+00\n",
       "25%      1.150000e+03\n",
       "50%      2.950000e+03\n",
       "75%      7.190000e+03\n",
       "max      2.147484e+09\n",
       "Name: price, dtype: float64"
      ]
     },
     "execution_count": 15,
     "metadata": {},
     "output_type": "execute_result"
    }
   ],
   "source": [
    "y_train.describe()"
   ]
  },
  {
   "cell_type": "markdown",
   "metadata": {
    "colab_type": "text",
    "id": "K-Y5S_f7Hr2G"
   },
   "source": [
    "Now, we show the correlation between the numerical variables (*powerPS, kilometer and  yearOfRegistration*), and  the log of *price*. \n",
    "\n",
    "<font color='#0000e6'> describe </font> \n"
   ]
  },
  {
   "cell_type": "code",
   "execution_count": 16,
   "metadata": {
    "colab": {
     "base_uri": "https://localhost:8080/",
     "height": 124
    },
    "colab_type": "code",
    "id": "4jT6jNfrEvU9",
    "outputId": "798d98a8-a0d8-44b9-c675-571cc34051a3"
   },
   "outputs": [
    {
     "data": {
      "text/html": [
       "<style  type=\"text/css\" >\n",
       "    #T_09fe9dee_3bb7_11ea_bdca_51583045e678row0_col0 {\n",
       "            background-color:  #9edae5;\n",
       "            color:  #000000;\n",
       "        }    #T_09fe9dee_3bb7_11ea_bdca_51583045e678row0_col1 {\n",
       "            background-color:  #ffbb78;\n",
       "            color:  #000000;\n",
       "        }    #T_09fe9dee_3bb7_11ea_bdca_51583045e678row0_col2 {\n",
       "            background-color:  #1f77b4;\n",
       "            color:  #000000;\n",
       "        }    #T_09fe9dee_3bb7_11ea_bdca_51583045e678row0_col3 {\n",
       "            background-color:  #aec7e8;\n",
       "            color:  #000000;\n",
       "        }    #T_09fe9dee_3bb7_11ea_bdca_51583045e678row1_col0 {\n",
       "            background-color:  #ff9896;\n",
       "            color:  #000000;\n",
       "        }    #T_09fe9dee_3bb7_11ea_bdca_51583045e678row1_col1 {\n",
       "            background-color:  #9edae5;\n",
       "            color:  #000000;\n",
       "        }    #T_09fe9dee_3bb7_11ea_bdca_51583045e678row1_col2 {\n",
       "            background-color:  #2ca02c;\n",
       "            color:  #000000;\n",
       "        }    #T_09fe9dee_3bb7_11ea_bdca_51583045e678row1_col3 {\n",
       "            background-color:  #aec7e8;\n",
       "            color:  #000000;\n",
       "        }    #T_09fe9dee_3bb7_11ea_bdca_51583045e678row2_col0 {\n",
       "            background-color:  #1f77b4;\n",
       "            color:  #000000;\n",
       "        }    #T_09fe9dee_3bb7_11ea_bdca_51583045e678row2_col1 {\n",
       "            background-color:  #1f77b4;\n",
       "            color:  #000000;\n",
       "        }    #T_09fe9dee_3bb7_11ea_bdca_51583045e678row2_col2 {\n",
       "            background-color:  #9edae5;\n",
       "            color:  #000000;\n",
       "        }    #T_09fe9dee_3bb7_11ea_bdca_51583045e678row2_col3 {\n",
       "            background-color:  #1f77b4;\n",
       "            color:  #000000;\n",
       "        }    #T_09fe9dee_3bb7_11ea_bdca_51583045e678row3_col0 {\n",
       "            background-color:  #98df8a;\n",
       "            color:  #000000;\n",
       "        }    #T_09fe9dee_3bb7_11ea_bdca_51583045e678row3_col1 {\n",
       "            background-color:  #1f77b4;\n",
       "            color:  #000000;\n",
       "        }    #T_09fe9dee_3bb7_11ea_bdca_51583045e678row3_col2 {\n",
       "            background-color:  #2ca02c;\n",
       "            color:  #000000;\n",
       "        }    #T_09fe9dee_3bb7_11ea_bdca_51583045e678row3_col3 {\n",
       "            background-color:  #9edae5;\n",
       "            color:  #000000;\n",
       "        }</style><table id=\"T_09fe9dee_3bb7_11ea_bdca_51583045e678\" ><thead>    <tr>        <th class=\"blank level0\" ></th>        <th class=\"col_heading level0 col0\" >log_price</th>        <th class=\"col_heading level0 col1\" >powerPS</th>        <th class=\"col_heading level0 col2\" >kilometer</th>        <th class=\"col_heading level0 col3\" >yearOfRegistration</th>    </tr></thead><tbody>\n",
       "                <tr>\n",
       "                        <th id=\"T_09fe9dee_3bb7_11ea_bdca_51583045e678level0_row0\" class=\"row_heading level0 row0\" >log_price</th>\n",
       "                        <td id=\"T_09fe9dee_3bb7_11ea_bdca_51583045e678row0_col0\" class=\"data row0 col0\" >1</td>\n",
       "                        <td id=\"T_09fe9dee_3bb7_11ea_bdca_51583045e678row0_col1\" class=\"data row0 col1\" >0.18</td>\n",
       "                        <td id=\"T_09fe9dee_3bb7_11ea_bdca_51583045e678row0_col2\" class=\"data row0 col2\" >-0.33</td>\n",
       "                        <td id=\"T_09fe9dee_3bb7_11ea_bdca_51583045e678row0_col3\" class=\"data row0 col3\" >0.028</td>\n",
       "            </tr>\n",
       "            <tr>\n",
       "                        <th id=\"T_09fe9dee_3bb7_11ea_bdca_51583045e678level0_row1\" class=\"row_heading level0 row1\" >powerPS</th>\n",
       "                        <td id=\"T_09fe9dee_3bb7_11ea_bdca_51583045e678row1_col0\" class=\"data row1 col0\" >0.18</td>\n",
       "                        <td id=\"T_09fe9dee_3bb7_11ea_bdca_51583045e678row1_col1\" class=\"data row1 col1\" >1</td>\n",
       "                        <td id=\"T_09fe9dee_3bb7_11ea_bdca_51583045e678row1_col2\" class=\"data row1 col2\" >-0.0096</td>\n",
       "                        <td id=\"T_09fe9dee_3bb7_11ea_bdca_51583045e678row1_col3\" class=\"data row1 col3\" >-0.0019</td>\n",
       "            </tr>\n",
       "            <tr>\n",
       "                        <th id=\"T_09fe9dee_3bb7_11ea_bdca_51583045e678level0_row2\" class=\"row_heading level0 row2\" >kilometer</th>\n",
       "                        <td id=\"T_09fe9dee_3bb7_11ea_bdca_51583045e678row2_col0\" class=\"data row2 col0\" >-0.33</td>\n",
       "                        <td id=\"T_09fe9dee_3bb7_11ea_bdca_51583045e678row2_col1\" class=\"data row2 col1\" >-0.0096</td>\n",
       "                        <td id=\"T_09fe9dee_3bb7_11ea_bdca_51583045e678row2_col2\" class=\"data row2 col2\" >1</td>\n",
       "                        <td id=\"T_09fe9dee_3bb7_11ea_bdca_51583045e678row2_col3\" class=\"data row2 col3\" >-0.057</td>\n",
       "            </tr>\n",
       "            <tr>\n",
       "                        <th id=\"T_09fe9dee_3bb7_11ea_bdca_51583045e678level0_row3\" class=\"row_heading level0 row3\" >yearOfRegistration</th>\n",
       "                        <td id=\"T_09fe9dee_3bb7_11ea_bdca_51583045e678row3_col0\" class=\"data row3 col0\" >0.028</td>\n",
       "                        <td id=\"T_09fe9dee_3bb7_11ea_bdca_51583045e678row3_col1\" class=\"data row3 col1\" >-0.0019</td>\n",
       "                        <td id=\"T_09fe9dee_3bb7_11ea_bdca_51583045e678row3_col2\" class=\"data row3 col2\" >-0.057</td>\n",
       "                        <td id=\"T_09fe9dee_3bb7_11ea_bdca_51583045e678row3_col3\" class=\"data row3 col3\" >1</td>\n",
       "            </tr>\n",
       "    </tbody></table>"
      ],
      "text/plain": [
       "<pandas.io.formats.style.Styler at 0x7f4f0c3422e8>"
      ]
     },
     "execution_count": 16,
     "metadata": {},
     "output_type": "execute_result"
    }
   ],
   "source": [
    "train['log_price'] = train['price'].apply(lambda x: np.nan if x == 0  else np.log(x))\n",
    "corr = train[['log_price', 'powerPS', 'kilometer','yearOfRegistration']].corr()\n",
    "corr.style.background_gradient(cmap='tab20').set_precision(2)"
   ]
  },
  {
   "cell_type": "code",
   "execution_count": 17,
   "metadata": {
    "colab": {
     "base_uri": "https://localhost:8080/",
     "height": 334
    },
    "colab_type": "code",
    "id": "Y8YqCIzHW2sN",
    "outputId": "eb1e8ab9-2a60-406a-ef24-88736a97dffa"
   },
   "outputs": [
    {
     "data": {
      "image/png": "[encoded data removed]",
      "text/plain": [
       "<Figure size 1296x360 with 3 Axes>"
      ]
     },
     "metadata": {
      "needs_background": "light"
     },
     "output_type": "display_data"
    }
   ],
   "source": [
    "# Plotting log-price with numerical variables\n",
    "# Numerical variables \n",
    "num_cols = ['powerPS', 'kilometer','yearOfRegistration']\n",
    "iterator_ax = 0\n",
    "for i, colm in enumerate(num_cols):\n",
    "  try:\n",
    "      current_ax = next(iterator_ax)\n",
    "  except:\n",
    "      fig, ax = plt.subplots(1, 3, figsize = (18, 5))\n",
    "      iterator_ax = iter(ax)\n",
    "      current_ax = next(iterator_ax)\n",
    "  sns.regplot(x = colm, y = 'log_price', data = train, scatter_kws = {'s':0}, ax = current_ax)\n",
    "  current_ax.set(ylabel = \"log price \")\n",
    "plt.show()"
   ]
  },
  {
   "cell_type": "markdown",
   "metadata": {
    "colab_type": "text",
    "id": "UD7oJf5d-Twz"
   },
   "source": [
    "Categorical variables: <font color='#0000e6'> describe </font> \n",
    "- <font color='#0000e6'> Model:</font> \n",
    "\n",
    "\n",
    "- <font color='#0000e6'> Brand:</font> \n",
    "\n",
    "- <font color='#0000e6'> Vehicle Type: </font> \n",
    "\n",
    "- <font color='#0000e6'> Fuel Type:</font>\n",
    "\n",
    "- <font color='#0000e6'> Transmission Type:</font>\n",
    "\n",
    "- <font color='#0000e6'> Not repaired damage:</font> "
   ]
  },
  {
   "cell_type": "code",
   "execution_count": 18,
   "metadata": {
    "colab": {
     "base_uri": "https://localhost:8080/",
     "height": 968
    },
    "colab_type": "code",
    "id": "mvmDuo3rDaKy",
    "outputId": "7efca362-c4ea-46fa-ea21-748c87b091b3"
   },
   "outputs": [
    {
     "data": {
      "image/png": "[encoded data removed]",
      "text/plain": [
       "<Figure size 1296x360 with 2 Axes>"
      ]
     },
     "metadata": {
      "needs_background": "light"
     },
     "output_type": "display_data"
    },
    {
     "data": {
      "image/png": "[encoded data removed]",
      "text/plain": [
       "<Figure size 1296x360 with 2 Axes>"
      ]
     },
     "metadata": {
      "needs_background": "light"
     },
     "output_type": "display_data"
    },
    {
     "data": {
      "image/png": "[encoded data removed]",
      "text/plain": [
       "<Figure size 1296x360 with 2 Axes>"
      ]
     },
     "metadata": {
      "needs_background": "light"
     },
     "output_type": "display_data"
    }
   ],
   "source": [
    "# Plotting log-price with categorical variables\n",
    "# Categorical variables \n",
    "cat_cols = ['model', 'brand','vehicleType', 'fuelType','gearbox','notRepairedDamage']\n",
    "#Top 10 variable model \n",
    "#X_train['model'].value_counts(normalize=True).sort_values(ascending=False)[0:9]\n",
    "model = ['golf','andere','3er','polo','corsa','astra','passat','a4','c_klasse']\n",
    "#Top 10 variable brand\n",
    "#X_train['brand'].value_counts(normalize=True).sort_values(ascending=False)[0:9]\n",
    "brand = ['volkswagen','bmw','opel','mercedes_benz','audi','ford','renault','peugeot','fiat']\n",
    "iterator_ax = 0\n",
    "for i, colm in enumerate(cat_cols):\n",
    "  if colm == 'model':\n",
    "      d = train[train[colm].isin(model)]\n",
    "  elif colm == 'brand':\n",
    "      d = train[train[colm].isin(brand)]\n",
    "  else: \n",
    "      d = train\n",
    "  try:\n",
    "      current_ax = next(iterator_ax)\n",
    "  except:\n",
    "      fig, ax = plt.subplots(1, 2, figsize = (18, 5))\n",
    "      iterator_ax = iter(ax)\n",
    "      current_ax = next(iterator_ax)\n",
    "  sns.boxplot(x=colm, y=\"log_price\", data=d, ax = current_ax, palette='tab20')\n",
    "  current_ax.set(ylabel = \"log price \")\n",
    "plt.show()"
   ]
  },
  {
   "cell_type": "markdown",
   "metadata": {
    "colab_type": "text",
    "id": "47igClx-GyiX"
   },
   "source": [
    "#  <font color='#0000e6'>  3. Data preprocessing\n",
    "\n",
    "<span><a href=\"#Table-of-contents\" data-toc-modified-id=\"Table-of-contents\"><span class=\"toc-item-num\">Back to the table of contents</span></a></span>\n",
    "\n",
    "\n",
    "\n",
    "\n",
    "In this section, .... ##  <font color='#0000e6'>  ---------------MANON -------------------"
   ]
  },
  {
   "cell_type": "code",
   "execution_count": 19,
   "metadata": {
    "colab": {
     "base_uri": "https://localhost:8080/",
     "height": 102
    },
    "colab_type": "code",
    "id": "mOalIS_qgZgO",
    "outputId": "614f3829-5221-4cf6-aafd-d8c75bb979f3"
   },
   "outputs": [
    {
     "name": "stdout",
     "output_type": "stream",
     "text": [
      "(240000, 19)\n",
      "['dateCrawled' 'name' 'seller' 'offerType' 'abtest' 'vehicleType'\n",
      " 'yearOfRegistration' 'gearbox' 'powerPS' 'model' 'kilometer'\n",
      " 'monthOfRegistration' 'fuelType' 'brand' 'notRepairedDamage'\n",
      " 'dateCreated' 'nrOfPictures' 'postalCode' 'lastSeen']\n"
     ]
    }
   ],
   "source": [
    "print(X_train.shape)\n",
    "print(X_train.columns.values)"
   ]
  },
  {
   "cell_type": "markdown",
   "metadata": {
    "colab_type": "text",
    "id": "WLnIwumNgxvO"
   },
   "source": [
    "Features used to predict auto prices \n",
    "\n",
    "dateCrawled<br>\n",
    "name No (see above)<br>\n",
    "seller : yes <br>\n",
    "offerType No (see above)<br>\n",
    "price : Y<br>\n",
    "abtest ?<br>\n",
    "vehicleType : yes<br>\n",
    "yearOfRegistration : yes (année et mois de mise sur le marché de la voiture, mise en circulation la première fois)<br>\n",
    "gearbox : yes<br>\n",
    "powerPS : yes<br>\n",
    "model : yes<br>\n",
    "kilometer : yes<br>\n",
    "monthOfRegistration : yes (mois de mise sur le marché)<br>\n",
    "fuelType : yes<br>\n",
    "brand : yes <br>\n",
    "notRepairedDamage : yes<br>\n",
    "dateCreated : yes (date de vente ou d'enregistrement sur la base de données)<br>\n",
    "nrOfPictures (nombre d'images déposées sur le site de vente, influe sur la vente mais pas sur le prix)<br>\n",
    "postalCode : yes <br>\n",
    "lastSeen : ?<br>\n",
    "\n",
    "Create new feature resulting from : dateCreated (année et mois) - date de mise sur le marché (yearOfRegistration, monthOfRegistration)<br>\n",
    "pourquoi le transformer pour la création de la nouvelle colonne ne fonctionne pas ?"
   ]
  },
  {
   "cell_type": "code",
   "execution_count": 22,
   "metadata": {
    "colab": {
     "base_uri": "https://localhost:8080/",
     "height": 238
    },
    "colab_type": "code",
    "id": "xvWSH9fMgZw_",
    "outputId": "986ef216-594d-464e-e22b-1d73500baa01"
   },
   "outputs": [
    {
     "name": "stdout",
     "output_type": "stream",
     "text": [
      "['privat' 'gewerblich']\n",
      "[1999 2009 1995 1991 2008 2001 2010 1998 2012 2005 1996 2018 1997 2014\n",
      " 1990 2000 1993 2007 1992 2016 2011 1994 2004 2013 2006 2017 2002 2003\n",
      " 2015 1987 1970 1979 1978 1988 1981 1986 1989 1983 1962 1964 1969 1985\n",
      " 1980 1967 1966 1951 1982 1960 1968 1984 1971 1959 1975 2019 1977 1976\n",
      " 1972 9999 1965 1500 1934 1973 1974 1923 1936 3000 1950 1957 1944 1910\n",
      " 7000 1958 9450 1961 1956 1952 1919 1945 5000 1000 1947 1915 1925 1963\n",
      " 1938 1954 1929 1955 4000 1953 1800 1937 7500 1930 1234 1931 8888 9000\n",
      " 6000 5600 1940 1932 1935 1933 1688 4100 8000 5555 1939 8200 2066 1942\n",
      " 1911 1946 1941 1602 6200 8500 2500 9229 1949 1948 1920 4500 2222]\n",
      "NB tests values :  99446\n",
      "NB control values :  92554\n"
     ]
    }
   ],
   "source": [
    "print(X_train['seller'].unique())\n",
    "print(X_train['yearOfRegistration'].unique())\n",
    "print(\"NB tests values : \",X_train[X_train['abtest'] == 'test']['abtest'].count())\n",
    "print(\"NB control values : \",X_train[X_train['abtest'] == 'control']['abtest'].count())"
   ]
  },
  {
   "cell_type": "markdown",
   "metadata": {
    "colab_type": "text",
    "id": "uGz0fz8L4mfb"
   },
   "source": [
    "- <font color='#0000e6'> --- Manon -  This part is explained (a little) in section 2.1"
   ]
  },
  {
   "cell_type": "code",
   "execution_count": 23,
   "metadata": {
    "colab": {
     "base_uri": "https://localhost:8080/",
     "height": 357
    },
    "colab_type": "code",
    "id": "2WEmBfpNgZpN",
    "outputId": "1944a7e9-a6d2-47fc-e0b7-494c13af19d8"
   },
   "outputs": [
    {
     "data": {
      "text/plain": [
       "dateCrawled            0.000000\n",
       "name                   0.000000\n",
       "seller                 0.000000\n",
       "offerType              0.000000\n",
       "abtest                 0.000000\n",
       "vehicleType            0.102161\n",
       "yearOfRegistration     0.000000\n",
       "gearbox                0.054568\n",
       "powerPS                0.000000\n",
       "model                  0.055208\n",
       "kilometer              0.000000\n",
       "monthOfRegistration    0.000000\n",
       "fuelType               0.090224\n",
       "brand                  0.000000\n",
       "notRepairedDamage      0.194245\n",
       "dateCreated            0.000000\n",
       "nrOfPictures           0.000000\n",
       "postalCode             0.000000\n",
       "lastSeen               0.000000\n",
       "dtype: float64"
      ]
     },
     "execution_count": 23,
     "metadata": {},
     "output_type": "execute_result"
    }
   ],
   "source": [
    "# Fill the NaN values\n",
    "\n",
    "X_train.isna().mean()"
   ]
  },
  {
   "cell_type": "code",
   "execution_count": 24,
   "metadata": {
    "colab": {},
    "colab_type": "code",
    "id": "O4XCo-dXhLkn"
   },
   "outputs": [],
   "source": [
    "# Fill the NaN values of the vehicleType column\n",
    "list_vehicleType_depend=['powerPS', 'model', 'brand' ,'gearbox','fuelType'] #classified by order of importance chose by ourself\n",
    "\n",
    "for i in range(len(list_vehicleType_depend)-1):\n",
    "  X_train['vehicleType'] = X_train['vehicleType'].fillna(X_train.groupby(list_vehicleType_depend)['vehicleType'].apply(lambda x: x.ffill().bfill()))\n",
    "  list_vehicleType_depend.pop(-1)\n",
    "\n",
    "#X_train['vehicleType'] = X_train['vehicleType'].fillna(X_train.groupby(['gearbox', 'powerPS', 'model', 'fuelType', 'brand'])['vehicleType'].apply(lambda x: x.ffill().bfill()))\n",
    "#X_train['vehicleType'] = X_train['vehicleType'].fillna(X_train.groupby(['gearbox', 'powerPS', 'model', 'brand'])['vehicleType'].apply(lambda x: x.ffill().bfill()))\n",
    "#X_train['vehicleType'] = X_train['vehicleType'].fillna(X_train.groupby(['powerPS', 'model', 'brand', 'fuelType'])['vehicleType'].apply(lambda x: x.ffill().bfill()))\n",
    "#X_train['vehicleType'] = X_train['vehicleType'].fillna(X_train.groupby(['powerPS', 'model', 'brand'])['vehicleType'].apply(lambda x: x.ffill().bfill()))\n",
    "#X_train['vehicleType'] = X_train['vehicleType'].fillna(X_train.groupby(['model', 'brand'])['vehicleType'].apply(lambda x: x.ffill().bfill()))\n",
    "#X_train['vehicleType'] = X_train['vehicleType'].fillna(X_train.groupby(['powerPS', 'model'])['vehicleType'].apply(lambda x: x.ffill().bfill()))\n",
    "#X_train['vehicleType'] = X_train['vehicleType'].fillna(X_train.groupby(['powerPS', 'brand'])['vehicleType'].apply(lambda x: x.ffill().bfill()))\n"
   ]
  },
  {
   "cell_type": "code",
   "execution_count": 25,
   "metadata": {
    "colab": {},
    "colab_type": "code",
    "id": "BsIZiCgogZm7"
   },
   "outputs": [],
   "source": [
    "# Fill the NaN values of the model column \n",
    "\n",
    "list_model_depend= [ 'powerPS', 'brand','gearbox','vehicleType', 'fuelType'] #classified by order of importance chose by ourself, categorical variables\n",
    "\n",
    "for i in range(len(list_model_depend)-1):\n",
    "  X_train['model'] = X_train['model'].fillna(X_train.groupby(list_model_depend)['model'].apply(lambda x: x.ffill().bfill()))\n",
    "  list_model_depend.pop(-1)\n",
    "\n",
    "#X_train['model'] = X_train['model'].fillna(X_train.groupby(['gearbox', 'powerPS', 'fuelType', 'brand', 'vehicleType'])['model'].apply(lambda x: x.ffill().bfill()))\n",
    "#X_train['model'] = X_train['model'].fillna(X_train.groupby(['gearbox', 'powerPS', 'fuelType', 'brand'])['model'].apply(lambda x: x.ffill().bfill()))\n",
    "#X_train['model'] = X_train['model'].fillna(X_train.groupby(['gearbox', 'powerPS', 'brand', 'vehicleType'])['model'].apply(lambda x: x.ffill().bfill()))\n",
    "#X_train['model'] = X_train['model'].fillna(X_train.groupby(['gearbox', 'powerPS', 'brand'])['model'].apply(lambda x: x.ffill().bfill()))\n",
    "#X_train['model'] = X_train['model'].fillna(X_train.groupby(['gearbox', 'powerPS', 'vehicleType'])['model'].apply(lambda x: x.ffill().bfill()))\n",
    "#X_train['model'] = X_train['model'].fillna(X_train.groupby(['powerPS', 'brand'])['model'].apply(lambda x: x.ffill().bfill()))\n",
    "#X_train['model'] = X_train['model'].fillna(X_train.groupby(['powerPS', 'vehicleType'])['model'].apply(lambda x: x.ffill().bfill()))"
   ]
  },
  {
   "cell_type": "code",
   "execution_count": 26,
   "metadata": {
    "colab": {},
    "colab_type": "code",
    "id": "HmJ-p1zUhkiq"
   },
   "outputs": [],
   "source": [
    "# Fill the NaN values of the notRepaireDamage column\n",
    "list_notRepairedDamage_depend= ['kilometer', 'dateCreated', 'brand'] #classified by order of importance chose by ourself, categorical variables\n",
    "\n",
    "for i in range(len(list_notRepairedDamage_depend)-1):\n",
    "  X_train['notRepairedDamage'] = X_train['notRepairedDamage'].fillna(X_train.groupby(list_notRepairedDamage_depend)['notRepairedDamage'].apply(lambda x: x.ffill().bfill()))\n",
    "  list_notRepairedDamage_depend.pop(-1)\n",
    "\n",
    "#X_train['notRepairedDamage'] = X_train['notRepairedDamage'].fillna(X_train.groupby(['kilometer', 'dateCreated', 'brand'])['notRepairedDamage'].apply(lambda x: x.ffill().bfill()))\n",
    "#X_train['notRepairedDamage'] = X_train['notRepairedDamage'].fillna(X_train.groupby(['kilometer', 'dateCreated'])['notRepairedDamage'].apply(lambda x: x.ffill().bfill()))"
   ]
  },
  {
   "cell_type": "code",
   "execution_count": 0,
   "metadata": {
    "colab": {},
    "colab_type": "code",
    "id": "tEZIqZEzhkv6"
   },
   "outputs": [],
   "source": [
    "# Fill the NaN values of the gearbox column\n",
    "\n",
    "list_gearbox_depend= ['model', 'vehicleType', 'brand', 'powerPS','dateCreated'] #classified by order of importance chose by ourself, categorical variables\n",
    "\n",
    "for i in range(len(list_gearbox_depend)-1):\n",
    "  X_train['gearbox'] = X_train['gearbox'].fillna(X_train.groupby(list_gearbox_depend)['gearbox'].apply(lambda x: x.ffill().bfill()))\n",
    "  list_gearbox_depend.pop(-1)\n",
    "\n",
    "#X_train['gearbox'] = X_train['gearbox'].fillna(X_train.groupby(['dateCreated', 'brand', 'model', 'powerPS', 'vehicleType'])['gearbox'].apply(lambda x: x.ffill().bfill()))\n",
    "#X_train['gearbox'] = X_train['gearbox'].fillna(X_train.groupby(['brand', 'model', 'powerPS', 'vehicleType'])['gearbox'].apply(lambda x: x.ffill().bfill()))\n",
    "#X_train['gearbox'] = X_train['gearbox'].fillna(X_train.groupby(['model', 'vehicleType'])['gearbox'].apply(lambda x: x.ffill().bfill()))"
   ]
  },
  {
   "cell_type": "code",
   "execution_count": 0,
   "metadata": {
    "colab": {
     "base_uri": "https://localhost:8080/",
     "height": 357
    },
    "colab_type": "code",
    "id": "K0Hil6WQhks-",
    "outputId": "50cc580e-782b-435f-cb46-61029e1b9d8f"
   },
   "outputs": [
    {
     "data": {
      "text/plain": [
       "dateCrawled            0.000000\n",
       "name                   0.000000\n",
       "seller                 0.000000\n",
       "offerType              0.000000\n",
       "abtest                 0.000000\n",
       "vehicleType            0.020333\n",
       "yearOfRegistration     0.000000\n",
       "gearbox                0.009575\n",
       "powerPS                0.000000\n",
       "model                  0.011308\n",
       "kilometer              0.000000\n",
       "monthOfRegistration    0.000000\n",
       "fuelType               0.005063\n",
       "brand                  0.000000\n",
       "notRepairedDamage      0.000075\n",
       "dateCreated            0.000000\n",
       "nrOfPictures           0.000000\n",
       "postalCode             0.000000\n",
       "lastSeen               0.000000\n",
       "dtype: float64"
      ]
     },
     "execution_count": 77,
     "metadata": {
      "tags": []
     },
     "output_type": "execute_result"
    }
   ],
   "source": [
    "# Fill the NaN values of the fuelType column \n",
    "\n",
    "list_fuelType_depend= [ 'model', 'powerPS', 'vehicleType','brand','gearbox'] #classified by order of importance chose by ourself, categorical variables\n",
    "\n",
    "for i in range(len(list_fuelType_depend)-1):\n",
    "  X_train['fuelType'] = X_train['fuelType'].fillna(X_train.groupby(list_fuelType_depend)['fuelType'].apply(lambda x: x.ffill().bfill()))\n",
    "  list_fuelType_depend.pop(-1)\n",
    "\n",
    "\n",
    "\n",
    "\n",
    "#X_train['fuelType'] = X_train['fuelType'].fillna(X_train.groupby(['brand', 'model', 'powerPS', 'gearbox', 'vehicleType'])['fuelType'].apply(lambda x: x.ffill().bfill()))\n",
    "#X_train['fuelType'] = X_train['fuelType'].fillna(X_train.groupby(['brand', 'model', 'powerPS', 'vehicleType'])['fuelType'].apply(lambda x: x.ffill().bfill()))\n",
    "#X_train['fuelType'] = X_train['fuelType'].fillna(X_train.groupby(['model', 'powerPS', 'vehicleType'])['fuelType'].apply(lambda x: x.ffill().bfill()))\n",
    "#X_train['fuelType'] = X_train['fuelType'].fillna(X_train.groupby(['model', 'vehicleType'])['fuelType'].apply(lambda x: x.ffill().bfill()))\n",
    "#X_train['fuelType'] = X_train['fuelType'].fillna(X_train.groupby(['model', 'powerPS'])['fuelType'].apply(lambda x: x.ffill().bfill()))\n",
    "#X_train['fuelType'] = X_train['fuelType'].fillna(X_train.groupby(['powerPS', 'vehicleType'])['fuelType'].apply(lambda x: x.ffill().bfill()))\n",
    "X_train.isna().mean()"
   ]
  },
  {
   "cell_type": "code",
   "execution_count": 0,
   "metadata": {
    "colab": {
     "base_uri": "https://localhost:8080/",
     "height": 238
    },
    "colab_type": "code",
    "id": "G9BaoBSbhkp1",
    "outputId": "4686b93c-1ac3-4058-a33f-ce0f8a3fb925"
   },
   "outputs": [
    {
     "data": {
      "text/plain": [
       "array([[1.000e+00, 1.000e+00, 7.700e+01, ..., 1.500e+05, 9.600e+01,\n",
       "        6.500e+00],\n",
       "       [1.000e+00, 1.000e+00, 3.500e+01, ..., 1.500e+05, 1.610e+02,\n",
       "        2.200e+01],\n",
       "       [1.000e+00, 1.000e+00, 3.400e+01, ..., 1.500e+05, 2.220e+02,\n",
       "        3.400e+01],\n",
       "       ...,\n",
       "       [1.000e+00, 1.000e+00, 2.400e+01, ..., 1.500e+05, 1.500e+02,\n",
       "        1.750e+01],\n",
       "       [1.000e+00, 1.000e+00, 4.700e+01, ..., 1.250e+05, 1.705e+02,\n",
       "        1.750e+01],\n",
       "       [1.000e+00, 1.000e+00, 1.200e+01, ..., 1.500e+05, 1.020e+02,\n",
       "        1.750e+01]])"
      ]
     },
     "execution_count": 96,
     "metadata": {
      "tags": []
     },
     "output_type": "execute_result"
    }
   ],
   "source": [
    "from sklearn.impute import SimpleImputer\n",
    "from sklearn.compose import ColumnTransformer\n",
    "from sklearn.pipeline import make_pipeline\n",
    "from sklearn.preprocessing import FunctionTransformer\n",
    "from sklearn.pipeline import Pipeline\n",
    "import numpy as np\n",
    "\n",
    "numeric_transformer = Pipeline(steps=[('impute', SimpleImputer(strategy='median'))])\n",
    "\n",
    "def process_date(X):\n",
    "    dateCreated = pd.to_datetime(X['dateCreated'], format='%Y-%m-%d')\n",
    "    return np.c_[dateCreated.dt.year, dateCreated.dt.month, dateCreated.dt.day]\n",
    "date_transformer = FunctionTransformer(process_date, validate=False)\n",
    "\n",
    "\n",
    "def process_zipcodes(X):\n",
    "    #zipcode_dep = X['postalCode']/1000 # récupérer seulement les 2 premiers chiffres... ? :)\n",
    "    zipcode_nums = pd.to_numeric(X['postalCode'].astype(str).str[:2], errors='coerce')\n",
    "    return zipcode_nums.values[:, np.newaxis]\n",
    "zipcode_transformer = FunctionTransformer(process_zipcodes, validate=False)\n",
    "\n",
    "\n",
    "def process_gear(X):\n",
    "    gear = X['gearbox']\n",
    "    di_gear = {\"manuell\": 1, \"automatik\": 2}\n",
    "    gear = gear.replace(di_gear)\n",
    "    return pd.to_numeric(gear).values[:, np.newaxis]\n",
    "gear_transformer = FunctionTransformer(process_gear, validate=False)\n",
    "\n",
    "def process_seller(X):\n",
    "    seller = X['seller']\n",
    "    di_seller = {\"privat\": 1, \"gewerblich\": 2}\n",
    "    seller = seller.replace(di_seller)\n",
    "    return pd.to_numeric(seller).values[:, np.newaxis]\n",
    "seller_transformer = FunctionTransformer(process_seller, validate=False)\n",
    "\n",
    "def process_car_age(X):\n",
    "    yearOfRegistration = X['yearOfRegistration']\n",
    "    monthOfRegistration = X['monthOfRegistration']\n",
    "    dateCreated = X['dateCreated']\n",
    "    year_month_day_created = process_date(X)\n",
    "    carAge = X.insert(1, 'carAge', yearOfRegistration - year_month_day_created[year], True)\n",
    "    # X['carAge'] = yearOfRegistration - year_month_day_created[year]\n",
    "    return pd.to_numeric(carAge).values[:, np.newaxis]\n",
    "car_age_transformer = FunctionTransformer(process_car_age, validate=False)\n",
    "# supprimer les colonnes yearOfRegistration, monthOfRegistration, dateCreated\n",
    "\n",
    "model_te = X_train[[\"model\"]].dropna()\n",
    "model_te = pd.concat((model_te, pd.Series(y_train)), axis=1)\n",
    "model_te = model_te.rename(columns={0:\"price\"})\n",
    "model_te = model_te.groupby(\"model\").agg([\"median\"])\n",
    "model_te[\"model_rank\"] = model_te[\"price\"][\"median\"].rank(ascending=False)\n",
    "model_te[\"model_te\"] = model_te.index\n",
    "model_rank = pd.DataFrame({\"model_te\":model_te[\"model_te\"], \"model_rank\":model_te[\"model_rank\"]})\n",
    "\n",
    "\n",
    "brand_te = X_train[[\"brand\"]].dropna()\n",
    "brand_te = pd.concat((brand_te, pd.Series(y_train)), axis=1)\n",
    "brand_te = brand_te.rename(columns={0:\"price\"})\n",
    "brand_te = brand_te.groupby(\"brand\").agg([\"median\"])\n",
    "brand_te[\"brand_rank\"] = brand_te[\"price\"][\"median\"].rank(ascending=False)\n",
    "brand_te[\"brand_te\"] = brand_te.index\n",
    "brand_rank = pd.DataFrame({\"brand_te\":brand_te[\"brand_te\"], \"brand_rank\":brand_te[\"brand_rank\"]})\n",
    "\n",
    "\n",
    "def brand_model(X): \n",
    "    brand = pd.merge(X, brand_rank, left_on=\"brand\", right_on=\"brand_te\", how=\"left\")\n",
    "    return brand[[\"brand_rank\"]]\n",
    "brand_transformer = FunctionTransformer(brand_model, validate=False)\n",
    "\n",
    "def process_model(X): \n",
    "    model = pd.merge(X, model_rank, left_on=\"model\", right_on=\"model_te\", how=\"left\")\n",
    "    return model[[\"model_rank\"]]\n",
    "model_transformer = FunctionTransformer(process_model, validate=False)\n",
    "\n",
    "\n",
    "\n",
    "# carAge_col = ['carAge']\n",
    "\n",
    "seller_col = ['seller']\n",
    "gear_col = ['gearbox']\n",
    "num_cols = ['powerPS', 'kilometer']\n",
    "zipcode_col = ['postalCode']\n",
    "\n",
    "#kilometer_col = ['kilometer'] faire 4 groupe ? \n",
    "model_col = ['model']\n",
    "brand_col = ['brand']\n",
    "\n",
    "#date_cols = ['Fiscal_year_end_date']\n",
    "drop_cols = ['dateCrawled', 'nrOfPictures', 'lastSeen']\n",
    "\n",
    "\n",
    "preprocessor = ColumnTransformer(\n",
    "    transformers=[\n",
    "        # ('carAge', make_pipeline(car_age_transformer, SimpleImputer(strategy='median')), carAge_col),\n",
    "        ('seller', make_pipeline(seller_transformer, SimpleImputer(strategy='median')), seller_col),\n",
    "        ('gear', make_pipeline(gear_transformer, SimpleImputer(strategy='median')), gear_col),\n",
    "        ('zipcode', make_pipeline(zipcode_transformer, SimpleImputer(strategy='median')), zipcode_col),\n",
    "        ('num', numeric_transformer, num_cols),\n",
    "        ('model_te', make_pipeline(model_transformer, SimpleImputer(strategy='median')), model_col),\n",
    "        ('brand_te', make_pipeline(brand_transformer, SimpleImputer(strategy='median')), brand_col),\n",
    "        #('date', make_pipeline(date_transformer, SimpleImputer(strategy='median')), date_cols),\n",
    "        ('drop cols', 'drop', drop_cols),\n",
    "        ])\n",
    "\n",
    "X_array = preprocessor.fit_transform(X_train)\n",
    "X_array"
   ]
  },
  {
   "cell_type": "code",
   "execution_count": 0,
   "metadata": {
    "colab": {
     "base_uri": "https://localhost:8080/",
     "height": 136
    },
    "colab_type": "code",
    "id": "f6C5bVU8hkno",
    "outputId": "43162330-fd69-42e4-a2c2-6a6e0bd1f3e8"
   },
   "outputs": [
    {
     "name": "stdout",
     "output_type": "stream",
     "text": [
      "RandomForestRegressor(bootstrap=True, criterion='mse', max_depth=None,\n",
      "                      max_features='auto', max_leaf_nodes=None,\n",
      "                      min_impurity_decrease=0.0, min_impurity_split=None,\n",
      "                      min_samples_leaf=1, min_samples_split=2,\n",
      "                      min_weight_fraction_leaf=0.0, n_estimators=5, n_jobs=None,\n",
      "                      oob_score=False, random_state=None, verbose=0,\n",
      "                      warm_start=False)\n"
     ]
    }
   ],
   "source": [
    "from sklearn.ensemble import AdaBoostRegressor\n",
    "from sklearn.ensemble import RandomForestRegressor\n",
    "regressor = RandomForestRegressor(n_estimators=5)\n",
    "print(regressor)"
   ]
  },
  {
   "cell_type": "code",
   "execution_count": 0,
   "metadata": {
    "colab": {
     "base_uri": "https://localhost:8080/",
     "height": 51
    },
    "colab_type": "code",
    "id": "xXn21iZSh16M",
    "outputId": "ebe9b601-c814-4f20-eebc-8f9f5e97f3ec"
   },
   "outputs": [
    {
     "name": "stdout",
     "output_type": "stream",
     "text": [
      "2019-12-27 18:50:46.161926 -- mean: 8.993684e-02 (+/- 4.435004e-04)\n",
      "2019-12-27 18:50:46.162536 -- mean: 9.683161e-02 (+/- 7.810004e-04)\n"
     ]
    }
   ],
   "source": [
    "from sklearn.metrics import make_scorer\n",
    "from sklearn.preprocessing import FunctionTransformer\n",
    "from sklearn.pipeline import Pipeline\n",
    "from sklearn.impute import SimpleImputer\n",
    "from sklearn.compose import ColumnTransformer\n",
    "from sklearn.pipeline import make_pipeline\n",
    "from sklearn.ensemble import RandomForestRegressor\n",
    "from sklearn.metrics import make_scorer\n",
    "from sklearn.model_selection import cross_val_score\n",
    "from sklearn.model_selection import GroupShuffleSplit\n",
    "import datetime\n",
    "def loss(y_true, y_pred):\n",
    "    \n",
    "    if isinstance(y_true, pd.Series):\n",
    "        y_true = y_true.values\n",
    "\n",
    "    true = np.log10(np.maximum(1., y_true))\n",
    "    pred = np.log10(np.maximum(1., y_pred))\n",
    "    \n",
    "    loss = np.mean(np.abs(true - pred)/(1+np.exp(np.abs(true - pred))))\n",
    "    \n",
    "    return loss\n",
    "    \n",
    "car_price_prediction_loss = make_scorer(loss, greater_is_better=False)\n",
    "\n",
    "clf = Pipeline(steps=[\n",
    "    ('preprocessing', preprocessor),\n",
    "    ('classifier', regressor)])\n",
    "\n",
    "cv = GroupShuffleSplit(n_splits=8, test_size=0.25)\n",
    "\n",
    "scores_prediction_train = -cross_val_score(clf, X_train, y_train, cv=cv, scoring=car_price_prediction_loss, groups=X_train['name'],\n",
    "                              n_jobs=2)\n",
    "scores_prediction_test = -cross_val_score(clf, X_valid, y_valid, cv=cv, scoring=car_price_prediction_loss, groups=X_valid['name'],\n",
    "                              n_jobs=2)\n",
    "\n",
    "print(\"%s -- mean: %e (+/- %e)\" % (datetime.datetime.now(), scores_prediction_train.mean(), scores_prediction_train.std()))\n",
    "print(\"%s -- mean: %e (+/- %e)\" % (datetime.datetime.now(), scores_prediction_test.mean(), scores_prediction_test.std()))"
   ]
  },
  {
   "cell_type": "code",
   "execution_count": 0,
   "metadata": {
    "colab": {},
    "colab_type": "code",
    "id": "ICH1SCjrh1-M"
   },
   "outputs": [],
   "source": [
    "import statsmodels.api as sm\n",
    "import statsmodels.formula.api as smf\n",
    "\n",
    "# regressor.fit(X_train, y_train)\n",
    "# https://towardsdatascience.com/random-forest-in-python-24d0893d51c0"
   ]
  },
  {
   "cell_type": "markdown",
   "metadata": {
    "colab_type": "text",
    "id": "xc_58EOzujtn"
   },
   "source": [
    "Anoter idea to improve the preprocessing of the data will be to use a better regressor with better parameters. To do that, we will first implement this new regressor : a Light_GBM"
   ]
  },
  {
   "cell_type": "code",
   "execution_count": 0,
   "metadata": {
    "colab": {},
    "colab_type": "code",
    "id": "D6JwJ9cIuins"
   },
   "outputs": [],
   "source": [
    "import lightgbm as lgb\n",
    "clf2 = lgb.LGBMRegressor()"
   ]
  },
  {
   "cell_type": "markdown",
   "metadata": {
    "colab_type": "text",
    "id": "1BBDXIUru-bK"
   },
   "source": [
    "Then we will prepare a Grid Search to explore hyperparamters and we will plot the learning_curve to know if our model in overfitting  or underfitting"
   ]
  },
  {
   "cell_type": "code",
   "execution_count": 0,
   "metadata": {
    "colab": {},
    "colab_type": "code",
    "id": "uobcB5wUu_FD"
   },
   "outputs": [],
   "source": [
    "gridParams = {\n",
    "    'n_estimators' : list(range(1,400)),\n",
    "    'learning_rate': [0.05],\n",
    "    'num_leaves': list(range(1,400)),\n",
    "    'max_depth' : list(range(1,400)),\n",
    "    'max_bin' : list(range(2,400)),\n",
    "    'subsample' : np.linspace(0.1,1,10),\n",
    "    'bagging_fraction' :np.linspace(0.1,1,10)#,\n",
    "    #'objective':['mae']\n",
    "    }"
   ]
  },
  {
   "cell_type": "markdown",
   "metadata": {
    "colab_type": "text",
    "id": "kJPAV9kB0px3"
   },
   "source": [
    "We will use a MAE loss to make the Grid Search. Indeed, the objective function can't take into account our scoring function. To use MAE, we will first modify y_pred to minimize the good loss definied and we will predict differently."
   ]
  },
  {
   "cell_type": "code",
   "execution_count": 0,
   "metadata": {
    "colab": {},
    "colab_type": "code",
    "id": "0hLhyxey1CUx"
   },
   "outputs": [],
   "source": [
    "#y_train_gs=np.log10(np.maximum(1.,y_train)))\n",
    "#and we will predict :\n",
    "#y_test=10**model.predict(X)"
   ]
  },
  {
   "cell_type": "code",
   "execution_count": 0,
   "metadata": {
    "colab": {},
    "colab_type": "code",
    "id": "P-dyk6PbyPAx"
   },
   "outputs": [],
   "source": [
    "\n",
    "grid = RandomizedSearchCV(clf2,gridParams,verbose=1,cv=10,n_jobs = 1,n_iter=10)\n",
    "#grid.fit(X_df,y_array)"
   ]
  },
  {
   "cell_type": "code",
   "execution_count": 0,
   "metadata": {
    "colab": {
     "base_uri": "https://localhost:8080/",
     "height": 34
    },
    "colab_type": "code",
    "id": "57oBMtyQx04J",
    "outputId": "1e2d0dd8-430a-4090-ced4-17cb71aaf723"
   },
   "outputs": [
    {
     "name": "stdout",
     "output_type": "stream",
     "text": [
      "mean: 1.347419e-01 (+/- 1.521471e-02)\n"
     ]
    }
   ],
   "source": [
    "clf = Pipeline(steps=[\n",
    "    ('preprocessing', preprocessor),\n",
    "    ('classifier', grid )])\n",
    "\n",
    "cv = GroupShuffleSplit(n_splits=8, test_size=0.25)\n",
    "\n",
    "scores_X_train = -cross_val_score(clf, X_train.iloc[0:60000,:], y_train[0:60000], cv=cv, scoring=car_price_prediction_loss, groups=X_train.iloc[0:60000,1],\n",
    "                              n_jobs=2)\n",
    "\n",
    "print(\"mean: %e (+/- %e)\" % (scores_X_train.mean(), scores_X_train.std()))"
   ]
  },
  {
   "cell_type": "code",
   "execution_count": 0,
   "metadata": {
    "colab": {
     "base_uri": "https://localhost:8080/",
     "height": 1000
    },
    "colab_type": "code",
    "id": "pytMYGfGQnOz",
    "outputId": "3a73a125-4b1c-454f-f523-cfb081e73686"
   },
   "outputs": [
    {
     "data": {
      "text/plain": [
       "['__abstractmethods__',\n",
       " '__class__',\n",
       " '__delattr__',\n",
       " '__dict__',\n",
       " '__dir__',\n",
       " '__doc__',\n",
       " '__eq__',\n",
       " '__format__',\n",
       " '__ge__',\n",
       " '__getattribute__',\n",
       " '__getstate__',\n",
       " '__gt__',\n",
       " '__hash__',\n",
       " '__init__',\n",
       " '__init_subclass__',\n",
       " '__le__',\n",
       " '__lt__',\n",
       " '__module__',\n",
       " '__ne__',\n",
       " '__new__',\n",
       " '__reduce__',\n",
       " '__reduce_ex__',\n",
       " '__repr__',\n",
       " '__setattr__',\n",
       " '__setstate__',\n",
       " '__sizeof__',\n",
       " '__str__',\n",
       " '__subclasshook__',\n",
       " '__weakref__',\n",
       " '_abc_cache',\n",
       " '_abc_negative_cache',\n",
       " '_abc_negative_cache_version',\n",
       " '_abc_registry',\n",
       " '_check_is_fitted',\n",
       " '_estimator_type',\n",
       " '_format_results',\n",
       " '_get_param_names',\n",
       " '_get_tags',\n",
       " '_required_parameters',\n",
       " '_run_search',\n",
       " 'classes_',\n",
       " 'cv',\n",
       " 'decision_function',\n",
       " 'error_score',\n",
       " 'estimator',\n",
       " 'fit',\n",
       " 'get_params',\n",
       " 'iid',\n",
       " 'inverse_transform',\n",
       " 'n_iter',\n",
       " 'n_jobs',\n",
       " 'param_distributions',\n",
       " 'pre_dispatch',\n",
       " 'predict',\n",
       " 'predict_log_proba',\n",
       " 'predict_proba',\n",
       " 'random_state',\n",
       " 'refit',\n",
       " 'return_train_score',\n",
       " 'score',\n",
       " 'scoring',\n",
       " 'set_params',\n",
       " 'transform',\n",
       " 'verbose']"
      ]
     },
     "execution_count": 137,
     "metadata": {
      "tags": []
     },
     "output_type": "execute_result"
    }
   ],
   "source": [
    "dir(grid)"
   ]
  },
  {
   "cell_type": "markdown",
   "metadata": {
    "colab_type": "text",
    "id": "bwKsCO3SM6D2"
   },
   "source": [
    "# ATTENTION, COURBE LONGUE A RUN"
   ]
  },
  {
   "cell_type": "code",
   "execution_count": 0,
   "metadata": {
    "colab": {},
    "colab_type": "code",
    "id": "bxkaKqj5vSCV"
   },
   "outputs": [],
   "source": [
    "from sklearn.model_selection import RandomizedSearchCV\n",
    "from sklearn.model_selection import learning_curve\n",
    "\n",
    "\n",
    "def plot_learning_curve(estimator, X, y, ylim=(0, 1.1), cv=5,\n",
    "                        n_jobs=2, train_sizes=np.linspace(.1, 1.0, 5),\n",
    "                        scoring=car_price_prediction_loss):\n",
    "  plt.title(\"Learning curves for %s\" % type(estimator).__name__)\n",
    "  plt.grid()\n",
    "  plt.xlabel(\"Training examples\")\n",
    "  plt.ylabel(\"Score\")\n",
    "  train_sizes, train_scores, validation_scores = learning_curve(\n",
    "      estimator, X, y, cv=cv, n_jobs=n_jobs, train_sizes=train_sizes,\n",
    "      scoring=scoring)\n",
    "  train_scores_mean = np.mean(train_scores, axis=1)\n",
    "  validation_scores_mean = np.mean(validation_scores, axis=1)\n",
    "\n",
    "  plt.plot(train_sizes, train_scores_mean, 'o-', color=\"r\",\n",
    "            label=\"Training score\")\n",
    "  plt.plot(train_sizes, validation_scores_mean, 'o-', color=\"g\",\n",
    "            label=\"Cross-validation score\")\n",
    "  plt.legend(loc=\"best\")\n",
    "  print(\"Best validation score: {:.4f}\".format(validation_scores_mean[-1]))\n",
    "\n"
   ]
  },
  {
   "cell_type": "code",
   "execution_count": 0,
   "metadata": {
    "colab": {
     "base_uri": "https://localhost:8080/",
     "height": 393
    },
    "colab_type": "code",
    "id": "m7QrJHpSw7d9",
    "outputId": "6f49a36c-d1b4-4be1-bac7-ee4bc5515fcc"
   },
   "outputs": [
    {
     "name": "stdout",
     "output_type": "stream",
     "text": [
      "Best validation score: -0.1690\n"
     ]
    },
    {
     "data": {
      "image/png": "[encoded data removed]",
      "text/plain": [
       "<Figure size 576x396 with 1 Axes>"
      ]
     },
     "metadata": {
      "tags": []
     },
     "output_type": "display_data"
    }
   ],
   "source": [
    "plot_learning_curve(clf, X_train, y_train, scoring=car_price_prediction_loss)"
   ]
  },
  {
   "cell_type": "code",
   "execution_count": 0,
   "metadata": {
    "colab": {},
    "colab_type": "code",
    "id": "uveKIDOcUnnq"
   },
   "outputs": [],
   "source": [
    ".best_params_"
   ]
  },
  {
   "cell_type": "markdown",
   "metadata": {
    "colab_type": "text",
    "id": "dVT_WbYwUhZ9"
   },
   "source": [
    "Utilization of parameters found"
   ]
  },
  {
   "cell_type": "code",
   "execution_count": 0,
   "metadata": {
    "colab": {},
    "colab_type": "code",
    "id": "dmwhSNv2UfJD"
   },
   "outputs": [],
   "source": [
    "regressor = lgb.LGBMRegressor(bagging_fraction =0.46425315978835247,\n",
    "                      learning_rate = 0.1004089596870895,\n",
    "                      max_bin = 248,\n",
    "                      max_depth = 13,\n",
    "                      min_data_in_leaf = 16,\n",
    "                      num_leaves = 207,\n",
    "                      reg_lambda = 0.8560898755683229,\n",
    "                      n_jobs = 3)"
   ]
  },
  {
   "cell_type": "markdown",
   "metadata": {
    "colab_type": "text",
    "id": "I1r2KIbqGyiY"
   },
   "source": [
    "# 4. Baseline model\n",
    "\n",
    "<span><a href=\"#Table-of-contents\" data-toc-modified-id=\"Table-of-contents\"><span class=\"toc-item-num\">Back to the table of contents</span></a></span>"
   ]
  },
  {
   "cell_type": "markdown",
   "metadata": {
    "colab_type": "text",
    "id": "2UshB23YGyiY"
   },
   "source": [
    "# 5. RAMP test submission\n",
    "\n",
    "<span><a href=\"#Table-of-contents\" data-toc-modified-id=\"Table-of-contents\"><span class=\"toc-item-num\">Back to the table of contents</span></a></span>"
   ]
  },
  {
   "cell_type": "markdown",
   "metadata": {
    "colab_type": "text",
    "id": "nOxGhzOTGyiZ"
   },
   "source": [
    "**Submission structure**\n",
    "\n",
    "Each of your submissions should be in it's own folder within the `submissions` folder (e.g. `submissions/my_submission`). The submission directory should contain 3 files:\n",
    "\n",
    "* a copy of the `award_notices_RAMP.csv` dataset. Note that you will **not** need to upload this file when making a submission in RAMP studio as this is done automatically by RAMP studio.\n",
    "* `feature_extractor.py` - this should merge the `X_df` and the award dataset and any feature transformation you wish\n",
    "* `regressor.py` - this should implement a regressor with a `fit()` and `predict()` function\n",
    "\n",
    "See `submissions/starting_kit` for an example.\n",
    "\n",
    "You can also test your submissions using RAMP-workflow before submitting:"
   ]
  },
  {
   "cell_type": "markdown",
   "metadata": {
    "colab_type": "text",
    "id": "vaTVd0BcGyia"
   },
   "source": [
    "**Local testing (before submission)**\n",
    "\n",
    "It is <b><span style=\"color:red\">important that you test your submission files before submitting them</span></b>. For this we provide a unit test - `ramp_test_submission`. \n",
    "\n",
    "First, ensure that `ramp-worflow` is installed (see the [github repo](https://github.com/paris-saclay-cds/ramp-workflow) for installation instructions). \n",
    "\n",
    "Now you can use `ramp_test_submission`. This command will test on files in [`submissions/starting_kit`](/submissions/starting_kit) by default. To specify testing on a different folder use the flag `--submission`. For example to run the test on `submissions/solution1` use: `ramp_test_submission --submission solution1`.\n",
    "\n",
    "If it runs and print training and test errors on each fold, then you can submit the code.\n",
    "\n",
    "For example, below we test the starting kit:"
   ]
  },
  {
   "cell_type": "code",
   "execution_count": 20,
   "metadata": {
    "colab": {},
    "colab_type": "code",
    "id": "ajBvLBjhGyih"
   },
   "outputs": [
    {
     "name": "stdout",
     "output_type": "stream",
     "text": [
      "\u001b[38;5;178m\u001b[1mTesting Used Cars Price Prediction\u001b[0m\n",
      "\u001b[38;5;178m\u001b[1mReading train and test files from ./data ...\u001b[0m\n",
      "\u001b[38;5;178m\u001b[1mReading cv ...\u001b[0m\n",
      "\u001b[38;5;178m\u001b[1mTraining submissions/starting_kit ...\u001b[0m\n",
      "\u001b[38;5;178m\u001b[1mCV fold 0\u001b[0m\n",
      "\t\u001b[38;5;178m\u001b[1mscore  price error      time\u001b[0m\n",
      "\t\u001b[38;5;10m\u001b[1mtrain\u001b[0m         \u001b[38;5;10m\u001b[1m0.24\u001b[0m  \u001b[38;5;150m4.205354\u001b[0m\n",
      "\t\u001b[38;5;12m\u001b[1mvalid\u001b[0m         \u001b[38;5;12m\u001b[1m0.34\u001b[0m  \u001b[38;5;105m1.011500\u001b[0m\n",
      "\t\u001b[38;5;1m\u001b[1mtest\u001b[0m          \u001b[38;5;1m\u001b[1m0.34\u001b[0m  \u001b[38;5;218m0.296781\u001b[0m\n",
      "\u001b[38;5;178m\u001b[1mCV fold 1\u001b[0m\n",
      "\t\u001b[38;5;178m\u001b[1mscore  price error      time\u001b[0m\n",
      "\t\u001b[38;5;10m\u001b[1mtrain\u001b[0m         \u001b[38;5;10m\u001b[1m0.22\u001b[0m  \u001b[38;5;150m4.284688\u001b[0m\n",
      "\t\u001b[38;5;12m\u001b[1mvalid\u001b[0m         \u001b[38;5;12m\u001b[1m0.33\u001b[0m  \u001b[38;5;105m1.017475\u001b[0m\n",
      "\t\u001b[38;5;1m\u001b[1mtest\u001b[0m          \u001b[38;5;1m\u001b[1m0.33\u001b[0m  \u001b[38;5;218m0.306702\u001b[0m\n",
      "\u001b[38;5;178m\u001b[1mCV fold 2\u001b[0m\n",
      "\t\u001b[38;5;178m\u001b[1mscore  price error      time\u001b[0m\n",
      "\t\u001b[38;5;10m\u001b[1mtrain\u001b[0m         \u001b[38;5;10m\u001b[1m0.22\u001b[0m  \u001b[38;5;150m4.213476\u001b[0m\n",
      "\t\u001b[38;5;12m\u001b[1mvalid\u001b[0m         \u001b[38;5;12m\u001b[1m0.34\u001b[0m  \u001b[38;5;105m1.087747\u001b[0m\n",
      "\t\u001b[38;5;1m\u001b[1mtest\u001b[0m          \u001b[38;5;1m\u001b[1m0.33\u001b[0m  \u001b[38;5;218m0.347661\u001b[0m\n",
      "\u001b[38;5;178m\u001b[1mCV fold 3\u001b[0m\n",
      "\t\u001b[38;5;178m\u001b[1mscore  price error      time\u001b[0m\n",
      "\t\u001b[38;5;10m\u001b[1mtrain\u001b[0m         \u001b[38;5;10m\u001b[1m0.22\u001b[0m  \u001b[38;5;150m4.712758\u001b[0m\n",
      "\t\u001b[38;5;12m\u001b[1mvalid\u001b[0m         \u001b[38;5;12m\u001b[1m0.32\u001b[0m  \u001b[38;5;105m1.241873\u001b[0m\n",
      "\t\u001b[38;5;1m\u001b[1mtest\u001b[0m          \u001b[38;5;1m\u001b[1m0.32\u001b[0m  \u001b[38;5;218m0.313001\u001b[0m\n",
      "\u001b[38;5;178m\u001b[1mCV fold 4\u001b[0m\n",
      "\t\u001b[38;5;178m\u001b[1mscore  price error      time\u001b[0m\n",
      "\t\u001b[38;5;10m\u001b[1mtrain\u001b[0m         \u001b[38;5;10m\u001b[1m0.22\u001b[0m  \u001b[38;5;150m4.770391\u001b[0m\n",
      "\t\u001b[38;5;12m\u001b[1mvalid\u001b[0m         \u001b[38;5;12m\u001b[1m0.33\u001b[0m  \u001b[38;5;105m1.052023\u001b[0m\n",
      "\t\u001b[38;5;1m\u001b[1mtest\u001b[0m          \u001b[38;5;1m\u001b[1m0.32\u001b[0m  \u001b[38;5;218m0.309551\u001b[0m\n",
      "\u001b[38;5;178m\u001b[1mCV fold 5\u001b[0m\n",
      "\t\u001b[38;5;178m\u001b[1mscore  price error      time\u001b[0m\n",
      "\t\u001b[38;5;10m\u001b[1mtrain\u001b[0m         \u001b[38;5;10m\u001b[1m0.22\u001b[0m  \u001b[38;5;150m4.312740\u001b[0m\n",
      "\t\u001b[38;5;12m\u001b[1mvalid\u001b[0m         \u001b[38;5;12m\u001b[1m0.33\u001b[0m  \u001b[38;5;105m1.025798\u001b[0m\n",
      "\t\u001b[38;5;1m\u001b[1mtest\u001b[0m          \u001b[38;5;1m\u001b[1m0.32\u001b[0m  \u001b[38;5;1m\u001b[1m0.32\u001b[0m0810\n",
      "\u001b[38;5;178m\u001b[1mCV fold 6\u001b[0m\n",
      "\t\u001b[38;5;178m\u001b[1mscore  price error      time\u001b[0m\n",
      "\t\u001b[38;5;10m\u001b[1mtrain\u001b[0m         \u001b[38;5;10m\u001b[1m0.22\u001b[0m  \u001b[38;5;150m4.961628\u001b[0m\n",
      "\t\u001b[38;5;12m\u001b[1mvalid\u001b[0m         \u001b[38;5;12m\u001b[1m0.33\u001b[0m  \u001b[38;5;105m1.231517\u001b[0m\n",
      "\t\u001b[38;5;1m\u001b[1mtest\u001b[0m          \u001b[38;5;1m\u001b[1m0.32\u001b[0m  \u001b[38;5;218m0.338828\u001b[0m\n",
      "\u001b[38;5;178m\u001b[1mCV fold 7\u001b[0m\n",
      "\t\u001b[38;5;178m\u001b[1mscore  price error      time\u001b[0m\n",
      "\t\u001b[38;5;10m\u001b[1mtrain\u001b[0m         \u001b[38;5;10m\u001b[1m0.22\u001b[0m  \u001b[38;5;150m4.688069\u001b[0m\n",
      "\t\u001b[38;5;12m\u001b[1mvalid\u001b[0m         \u001b[38;5;12m\u001b[1m0.33\u001b[0m  \u001b[38;5;105m1.186000\u001b[0m\n",
      "\t\u001b[38;5;1m\u001b[1mtest\u001b[0m          \u001b[38;5;1m\u001b[1m0.32\u001b[0m  \u001b[38;5;1m\u001b[1m0.32\u001b[0m6701\n",
      "\u001b[38;5;178m\u001b[1m----------------------------\u001b[0m\n",
      "\u001b[38;5;178m\u001b[1mMean CV scores\u001b[0m\n",
      "\u001b[38;5;178m\u001b[1m----------------------------\u001b[0m\n",
      "\t\u001b[38;5;178m\u001b[1mscore   price error        time\u001b[0m\n",
      "\t\u001b[38;5;10m\u001b[1mtrain\u001b[0m  \u001b[38;5;10m\u001b[1m0.22\u001b[0m \u001b[38;5;150m\u001b[38;5;150m±\u001b[0m\u001b[0m \u001b[38;5;150m0.006\u001b[0m  \u001b[38;5;150m4.5\u001b[0m \u001b[38;5;150m\u001b[38;5;150m±\u001b[0m\u001b[0m \u001b[38;5;150m0.28\u001b[0m\n",
      "\t\u001b[38;5;12m\u001b[1mvalid\u001b[0m  \u001b[38;5;12m\u001b[1m0.33\u001b[0m \u001b[38;5;105m\u001b[38;5;105m±\u001b[0m\u001b[0m \u001b[38;5;105m0.006\u001b[0m  \u001b[38;5;105m1.1\u001b[0m \u001b[38;5;105m\u001b[38;5;105m±\u001b[0m\u001b[0m \u001b[38;5;105m0.09\u001b[0m\n",
      "\t\u001b[38;5;1m\u001b[1mtest\u001b[0m   \u001b[38;5;1m\u001b[1m\u001b[38;5;218m0.3\u001b[0m3\u001b[0m \u001b[38;5;218m\u001b[38;5;218m±\u001b[0m\u001b[0m \u001b[38;5;218m0.006\u001b[0m  \u001b[38;5;218m0.3\u001b[0m \u001b[38;5;218m\u001b[38;5;218m±\u001b[0m\u001b[0m \u001b[38;5;218m0.02\u001b[0m\n",
      "\u001b[38;5;178m\u001b[1m----------------------------\u001b[0m\n",
      "\u001b[38;5;178m\u001b[1mBagged scores\u001b[0m\n",
      "\u001b[38;5;178m\u001b[1m----------------------------\u001b[0m\n",
      "\t\u001b[38;5;178m\u001b[1mscore  price error\u001b[0m\n",
      "\t\u001b[38;5;12m\u001b[1mvalid\u001b[0m         \u001b[38;5;12m\u001b[1m0.33\u001b[0m\n",
      "\t\u001b[38;5;1m\u001b[1mtest\u001b[0m          \u001b[38;5;1m\u001b[1m0.32\u001b[0m\n"
     ]
    }
   ],
   "source": [
    "!ramp_test_submission --submission starting_kit"
   ]
  },
  {
   "cell_type": "markdown",
   "metadata": {
    "colab_type": "text",
    "id": "1zG6XnkhGyig"
   },
   "source": [
    "**More information**\n",
    "\n",
    "You can find more information in the [README](https://github.com/paris-saclay-cds/ramp-workflow/blob/master/README.md) of the [ramp-workflow library](https://github.com/paris-saclay-cds/ramp-workflow)."
   ]
  },
  {
   "cell_type": "code",
   "execution_count": 0,
   "metadata": {
    "colab": {},
    "colab_type": "code",
    "id": "tC4Flw4oGyil"
   },
   "outputs": [],
   "source": []
  },
  {
   "cell_type": "markdown",
   "metadata": {
    "colab_type": "text",
    "id": "zMzoAb0DF_Bb"
   },
   "source": [
    "Instructions:\n",
    "\n",
    "I propose as deadline Feb 2nd 23:59pm. You will need to send to @Thomas Moreau and myself an email with a link to the github repository that contains your project. If it’s private data invite us as collaborator to the repo.\n",
    "\n",
    "Small reminder on what we expect for the project:\n",
    "\n",
    "- We ask you to prepare a challenge. This means that you will need to collect data, understand them and choose a metric.\n",
    "- By no mean we ask you to come up with a solution for this problem. If you have solve the problem, you really don't need to make a challenge anyway!\n",
    "- The handout will be a github repo containing: A notebook (describe the data, the metric and give a naive way to solve the problem i.e. a baseline) the data or a script to load the data if it is too large and a starting_kit submission which should be compatible with the ramp_test_submission  command.\n",
    "\n",
    "To make a project compatible with `ramp_test_submission`, look at the documentation of ramp_workflow : https://paris-saclay-cds.github.io/ramp-workflow/Examples of past year projects:\n",
    "\n",
    "- [Example 1](https://github.com/GauthierPerrod/Recommender)\n",
    "- [Example 2](https://github.com/GauthierPerrod/)\n",
    "- [Example 3](https://github.com/WassimAbida/Trash-classification-WJCAM/)\n",
    "- [Example 4](https://github.com/hai-dang-dau/hotel_booking)\n",
    "- [Example 5](https://github.com/rslaoui/NYC_nb_accidents/)\n",
    "\n",
    "\n",
    "\n",
    "it needs to be supervised learning ie you need to score on left out data. time series is fine eg if you do forecasting. Here an example of forecasting https://github.com/ramp-kits/el_nino"
   ]
  },
  {
   "cell_type": "code",
   "execution_count": 0,
   "metadata": {
    "colab": {},
    "colab_type": "code",
    "id": "kLjXBvcwGyio"
   },
   "outputs": [],
   "source": []
  },
  {
   "cell_type": "code",
   "execution_count": 0,
   "metadata": {
    "colab": {},
    "colab_type": "code",
    "id": "gypUIPpubTx9"
   },
   "outputs": [],
   "source": []
  }
 ],
 "metadata": {
  "colab": {
   "collapsed_sections": [
    "2UshB23YGyiY"
   ],
   "name": "DataCamp_autos.ipynb",
   "provenance": [],
   "toc_visible": true
  },
  "kernelspec": {
   "display_name": "Python 3",
   "language": "python",
   "name": "python3"
  },
  "language_info": {
   "codemirror_mode": {
    "name": "ipython",
    "version": 3
   },
   "file_extension": ".py",
   "mimetype": "text/x-python",
   "name": "python",
   "nbconvert_exporter": "python",
   "pygments_lexer": "ipython3",
   "version": "3.6.7"
  }
 },
 "nbformat": 4,
 "nbformat_minor": 1
}
